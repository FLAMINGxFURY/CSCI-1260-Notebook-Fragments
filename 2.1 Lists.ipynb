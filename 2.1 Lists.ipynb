{
 "cells": [
  {
   "attachments": {},
   "cell_type": "markdown",
   "metadata": {},
   "source": [
    "<span style=\"font-size:16px;\">\n",
    "<h1 style=\"font-family:Copperplate\">Lists</h1>\n",
    "<code>Lists</code>, like <code>arrays</code>, store multiple instances of one type of object. Unlike arrays, lists are one-dimensional structures that grow and shrink at need.\n",
    "</span>"
   ]
  },
  {
   "attachments": {},
   "cell_type": "markdown",
   "metadata": {},
   "source": [
    "<span style=\"font-size:16px;\">\n",
    "<h4 style=\"font-family:Copperplate;margin-bottom:6pt;\">Creating a New List</h4>\n",
    "Lists are declared differently than arrays. Here is code that declares a list:\n",
    "</span>\n",
    "<br /><br />\n",
    "\n",
    ">```csharp\n",
    ">List<int> listOfIntegers = new List<int>();\n",
    ">```\n",
    "\n",
    "<span style=\"font-size:16px;\">\n",
    "This code uses angle brackets (<code><></code>) to specify the type of item that <code>listOfIntegers</code> contains. Similarly, the List class constructor uses angle brackets and the <code>new</code> keyword to create an empty list of integers and to assign this object to the list. <br /><br />\n",
    "Lists can also be initialized with values, like arrays:\n",
    "</span>\n",
    "<br /><br />\n",
    "\n",
    ">```csharp\n",
    ">List<int> listOfIntegers = new List<int>() { 1, 2, 3 };\n",
    ">```\n",
    "\n",
    "<span style=\"font-size:16px;\">\n",
    "Below are some more examples:\n",
    "</span>"
   ]
  },
  {
   "cell_type": "code",
   "execution_count": 1,
   "id": "d0db553c",
   "metadata": {
    "dotnet_interactive": {
     "language": "csharp"
    },
    "polyglot_notebook": {
     "kernelName": "csharp"
    },
    "vscode": {
     "languageId": "polyglot-notebook"
    }
   },
   "outputs": [],
   "source": [
    "//An empty list of strings\n",
    "List<string> listOfStrings = new List<string>();\n",
    "\n",
    "//A list of doubles initialized with values\n",
    "List<double> listOfDoubles = new List<double>() { 1.1, 2.2, 3.3 };\n",
    "\n",
    "//An array of integers\n",
    "int[] arrayOfInts = new int[] { 1, 2, 3 };\n",
    "\n",
    "//Use the array to create a new list of integers\n",
    "List<int> listOfInts = new List<int>(arrayOfInts);"
   ]
  },
  {
   "attachments": {},
   "cell_type": "markdown",
   "metadata": {},
   "source": [
    "<span style=\"font-size:16px;\">\n",
    "<h4 style=\"font-family:Copperplate;margin-bottom:6pt;\">List Properties and Methods</h4>\n",
    "The C# documentation for Lists can be found <a href=\"https://docs.microsoft.com/en-us/dotnet/api/system.collections.generic.list-1.-ctor?view=net-6.0\">here</a>. Some List class methods are similar or identical to those of arrays. The examples below cover <code>Add()</code>, <code>Insert()</code>, <code>Remove()</code>, and <code>RemoveAt()</code>.\n",
    "</span>"
   ]
  },
  {
   "attachments": {},
   "cell_type": "markdown",
   "metadata": {},
   "source": [
    "<span style=\"font-size:16px;\">\n",
    "<h4 style=\"font-family:Copperplate;margin-bottom:6pt;\">Adding Values to a List</h4>\n",
    "List's <code>Add()</code> method appends a value to a list. Its <code>Insert()</code> method inserts a value before a user-specified index, or throws an error if this index is <i>out of bounds</i>.\n",
    "</span>"
   ]
  },
  {
   "cell_type": "code",
   "execution_count": 2,
   "id": "80a9810c",
   "metadata": {
    "dotnet_interactive": {
     "language": "csharp"
    },
    "polyglot_notebook": {
     "kernelName": "csharp"
    },
    "vscode": {
     "languageId": "polyglot-notebook"
    }
   },
   "outputs": [
    {
     "name": "stdout",
     "output_type": "stream",
     "text": [
      "one, two, three\n",
      "one, two, three, four, five\n",
      "one, two, apple, three, four, five\n"
     ]
    }
   ],
   "source": [
    "List<string> listOfStrings = new List<string>() { \"one\", \"two\", \"three\" };\n",
    "\n",
    "Console.WriteLine(string.Join(\", \", listOfStrings));\n",
    "\n",
    "//Append values to the end of the list\n",
    "listOfStrings.Add(\"four\");\n",
    "listOfStrings.Add(\"five\");\n",
    "\n",
    "Console.WriteLine(string.Join(\", \", listOfStrings));\n",
    "\n",
    "//Insert \"apple\" at index 2\n",
    "listOfStrings.Insert(2, \"apple\");\n",
    "\n",
    "Console.WriteLine(string.Join(\", \", listOfStrings));"
   ]
  },
  {
   "attachments": {},
   "cell_type": "markdown",
   "metadata": {},
   "source": [
    "<span style=\"font-size:16px;\">\n",
    "<h4 style=\"font-family:Copperplate;margin-bottom:6pt;\">Removing Values from a List</h4>\n",
    "List’s <code>Remove()</code> method removes a list’s first instance of a specified value if that value is in the list. Alternatively, <code>RemoveAt()</code> removes a value at a specified index, or throws an error if the index is <i>out of bounds</i>.\n",
    "</span>"
   ]
  },
  {
   "cell_type": "code",
   "execution_count": 3,
   "id": "aa9ade11",
   "metadata": {
    "dotnet_interactive": {
     "language": "csharp"
    },
    "polyglot_notebook": {
     "kernelName": "csharp"
    },
    "vscode": {
     "languageId": "polyglot-notebook"
    }
   },
   "outputs": [
    {
     "name": "stdout",
     "output_type": "stream",
     "text": [
      "1, 2, 7, 6, 9\n",
      "1, 7, 6, 9\n",
      "1, 7, 6, 9\n",
      "1, 6, 9\n"
     ]
    }
   ],
   "source": [
    "List<int> listOfInts = new List<int>() { 1, 2, 7, 6, 9 };\n",
    "\n",
    "Console.WriteLine(string.Join(\", \", listOfInts));\n",
    "\n",
    "//Remove 2 from the list\n",
    "listOfInts.Remove(2);\n",
    "\n",
    "Console.WriteLine(string.Join(\", \", listOfInts));\n",
    "\n",
    "//Try to remove 10 from the list\n",
    "listOfInts.Remove(10);\n",
    "\n",
    "Console.WriteLine(string.Join(\", \", listOfInts));\n",
    "\n",
    "//Remove the value at index 1\n",
    "listOfInts.RemoveAt(1);\n",
    "\n",
    "Console.WriteLine(string.Join(\", \", listOfInts));"
   ]
  },
  {
   "attachments": {},
   "cell_type": "markdown",
   "metadata": {},
   "source": [
    "<span style=\"font-size:16px;\">\n",
    "<h4 style=\"font-family:Copperplate;margin-bottom:6pt;\">Out of Bounds Errors</h4>\n",
    "The following examples show the use of Try/Catch blocks to catch and print out-of-bounds index errors generated by <code>Insert()</code> and <code>RemoveAt()</code>.\n",
    "</span>"
   ]
  },
  {
   "cell_type": "code",
   "execution_count": 4,
   "id": "f6895655",
   "metadata": {
    "dotnet_interactive": {
     "language": "csharp"
    },
    "polyglot_notebook": {
     "kernelName": "csharp"
    },
    "vscode": {
     "languageId": "polyglot-notebook"
    }
   },
   "outputs": [],
   "source": [
    "//The list to operate on\n",
    "List<char> listOfChars = new List<char>() { 'b', 'o', 'u', 'n', 'd', 's' };"
   ]
  },
  {
   "cell_type": "code",
   "execution_count": 5,
   "id": "4e09c5ba",
   "metadata": {
    "dotnet_interactive": {
     "language": "csharp"
    },
    "polyglot_notebook": {
     "kernelName": "csharp"
    },
    "vscode": {
     "languageId": "polyglot-notebook"
    }
   },
   "outputs": [
    {
     "name": "stdout",
     "output_type": "stream",
     "text": [
      "Cannot insert at negative index\r\n"
     ]
    }
   ],
   "source": [
    "//Try to insert \"a\" at index -1\n",
    "try {\n",
    "    listOfChars.Insert(-1, 'a');\n",
    "}\n",
    "catch (ArgumentOutOfRangeException) {\n",
    "    Console.WriteLine(\"Cannot insert at negative index\");\n",
    "}"
   ]
  },
  {
   "cell_type": "code",
   "execution_count": 6,
   "id": "342c3f0c",
   "metadata": {
    "dotnet_interactive": {
     "language": "csharp"
    },
    "polyglot_notebook": {
     "kernelName": "csharp"
    },
    "vscode": {
     "languageId": "polyglot-notebook"
    }
   },
   "outputs": [
    {
     "name": "stdout",
     "output_type": "stream",
     "text": [
      "Remove index out of bounds\r\n"
     ]
    }
   ],
   "source": [
    "//Try to remove from index 14\n",
    "try {\n",
    "    listOfChars.RemoveAt(14);\n",
    "}\n",
    "catch (ArgumentOutOfRangeException) {\n",
    "    Console.WriteLine(\"Remove index out of bounds\");\n",
    "}"
   ]
  },
  {
   "attachments": {},
   "cell_type": "markdown",
   "metadata": {},
   "source": [
    "<span style=\"font-size:16px;\">\n",
    "In the previous example, what would result from executing the statement <code>listOfChars.RemoveAt(14);</code> outside of a <code>try/catch</code> block, rather than from within it?\n",
    "</span>"
   ]
  },
  {
   "attachments": {},
   "cell_type": "markdown",
   "metadata": {},
   "source": [
    "<span style=\"font-size:16px;\">\n",
    "<h4 style=\"font-family:Copperplate;margin-bottom:6pt;\">Lists in Memory</h4>\n",
    "As it does for arrays, C# stores each list in a contiguous block of memory. This block is allocated when a list is created. C# grows and shrinks the block as a list changes size, and repositions it when something else in memory prevents the block from expanding. <br /><br />\n",
    "The logic for managing size changes in lists and other data structures varies by language. In managed languages like C#, the language’s runtime system manages allocation and deallocation automatically and transparently: no further work is needed. In unmanaged languages like C and C++, memory allocation must be managed outside the runtime system. In C, programmers must allocate and deallocate memory themselves. In C++, the preferred approach is to rely on the language’s standard library. See, for example, Scott Meyers’ <a href=\"https://learning.oreilly.com/library/view/effective-modern-c/9781491908419/\">Effective Modern C++</a> for more on the importance of using the C++ standard library to manage memory. \n",
    "</span>"
   ]
  },
  {
   "attachments": {},
   "cell_type": "markdown",
   "metadata": {},
   "source": [
    "<hr /><span style=\"font-size:14px;\">\n",
    "<b style=\"font-size:16px;\">Exercises</b> &emsp;|&emsp; <i>Place your answers in a <b>new</b> markdown cell below.</i>\n",
    "<ol>\n",
    "<li> What does the following code do?\n",
    "\n",
    "```csharp\n",
    "List<char> letters = new List<char>();\n",
    "```\n",
    "\n",
    "</li> \n",
    "<li>Use the following list for the exercises below: <kbd>list = [9, 3, 5, 1, 2, 4, 7, 6, 8]</kbd><br />\n",
    "What does the list look like after the following code executes?\n",
    "\n",
    "```csharp\n",
    "list.Add(27);\n",
    "```\n",
    "\n",
    "</li>\n",
    "<li> What does the list look like after the following code executes?\n",
    "\n",
    "```csharp\n",
    "list.Insert(3, 99);\n",
    "```\n",
    "\n",
    "</li>\n",
    "<li> What does the list look like after the following code executes?\n",
    "\n",
    "```csharp\n",
    "list.Remove(3);\n",
    "```\n",
    "\n",
    "</li>\n",
    "<li> What does the list look like after the following code executes?\n",
    "\n",
    "```csharp\n",
    "list.Remove(10);\n",
    "```\n",
    "\n",
    "</li>\n",
    "<li> What does the list look like after the following code executes?\n",
    "\n",
    "```csharp\n",
    "list.RemoveAt(2);\n",
    "```\n",
    "\n",
    "</li>\n",
    "<li> What does the list look like after the following code executes?\n",
    "\n",
    "```csharp\n",
    "list.RemoveAt(14);\n",
    "```\n",
    "\n",
    "</li>\n",
    "<li> Give some examples of builtin <code>List</code> methods in C#. What does each of them do?\n",
    "</li>\n",
    "</span>"
   ]
  }
 ],
 "metadata": {
  "kernelInfo": {
   "defaultKernelName": null,
   "items": [
    {
     "aliases": [
      "c#",
      "cs"
     ],
     "languageName": "C#",
     "name": "csharp"
    },
    {
     "aliases": [
      "f#",
      "fs"
     ],
     "languageName": "F#",
     "name": "fsharp"
    },
    {
     "aliases": [
      "powershell"
     ],
     "languageName": "PowerShell",
     "name": "pwsh"
    },
    {
     "aliases": [
      "js"
     ],
     "languageName": "JavaScript",
     "name": "javascript"
    },
    {
     "languageName": "HTML",
     "name": "html"
    },
    {
     "languageName": "SQL",
     "name": "sql"
    },
    {
     "languageName": "KQL",
     "name": "kql"
    },
    {
     "languageName": "Mermaid",
     "name": "mermaid"
    },
    {
     "languageName": "HTTP",
     "name": "http"
    },
    {
     "name": "value"
    }
   ]
  },
  "language_info": {
   "name": "python"
  },
  "polyglot_notebook": {
   "kernelInfo": {
    "defaultKernelName": "csharp",
    "items": [
     {
      "aliases": [
       "c#",
       "cs"
      ],
      "languageName": "C#",
      "name": "csharp"
     },
     {
      "aliases": [
       "f#",
       "fs"
      ],
      "languageName": "F#",
      "name": "fsharp"
     },
     {
      "aliases": [],
      "languageName": "HTML",
      "name": "html"
     },
     {
      "aliases": [],
      "languageName": "http",
      "name": "httpRequest"
     },
     {
      "aliases": [
       "js"
      ],
      "languageName": "JavaScript",
      "name": "javascript"
     },
     {
      "aliases": [],
      "languageName": "KQL",
      "name": "kql"
     },
     {
      "aliases": [],
      "languageName": "Mermaid",
      "name": "mermaid"
     },
     {
      "aliases": [
       "powershell"
      ],
      "languageName": "PowerShell",
      "name": "pwsh"
     },
     {
      "aliases": [],
      "languageName": "SQL",
      "name": "sql"
     },
     {
      "aliases": [],
      "name": "value"
     }
    ]
   }
  }
 },
 "nbformat": 4,
 "nbformat_minor": 5
}

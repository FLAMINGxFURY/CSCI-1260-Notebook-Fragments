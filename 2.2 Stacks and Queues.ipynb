{
 "cells": [
  {
   "attachments": {},
   "cell_type": "markdown",
   "metadata": {},
   "source": [
    "<span style=\"font-size:16px;\">\n",
    "<h1 style=\"font-family:Copperplate\">Stacks and Queues</h1>\n",
    "<code>Stacks</code> and <code>Queues</code>, like <code>Lists</code>, can store any number of items without specifying an initial size. Unlike <code>Lists</code>, <code>Stacks</code> and <code>Queues</code> are <b><i>Constrained Data Structures</i></b>: they restrict the order in which their users can store and retrieve their contents.\n",
    "</span>"
   ]
  },
  {
   "attachments": {},
   "cell_type": "markdown",
   "metadata": {},
   "source": [
    "<span style=\"font-size:16px;\">\n",
    "<h4 style=\"font-family:Copperplate\">Stacks</h4>\n",
    "Stacks are a \"last-in, first-out\" (<code>LIFO</code>) data structure. Some examples of \"real world\" stacks are stacks of plates, books, and playing cards. In each case items are put on \"top\" of the stack, and can (or should) only be removed from the \"top\".\n",
    "</span>"
   ]
  },
  {
   "attachments": {},
   "cell_type": "markdown",
   "metadata": {},
   "source": [
    "<span style=\"font-size:16px;\">\n",
    "<h4 style=\"font-family:Copperplate\">Stack Operations</h4>\n",
    "Stacks have three main operations for manipulating their contents: <code>push</code>, <code>pop</code>, and <code>peek</code>.\n",
    "<ul>\n",
    "<li>\n",
    "<code>Push</code> adds an item to the top of a stack.\n",
    "</li>\n",
    "<li>\n",
    "<code>Pop</code> removes an item from the top of a stack and returns its value.\n",
    "</li>\n",
    "<li>\n",
    "<code>Peek</code> returns the item at the top of a stack without removing it.\n",
    "</li>\n",
    "</ul>\n",
    "</span>"
   ]
  },
  {
   "attachments": {},
   "cell_type": "markdown",
   "metadata": {},
   "source": [
    "<span style=\"font-size:16px;\">\n",
    "<h4 style=\"font-family:Copperplate\">Stacks in C#</h4>\n",
    "In C#, stacks can be initialized as an empty structure or with a list of items. You can find the C# documentation for stacks <a href=\"https://docs.microsoft.com/en-us/dotnet/api/system.collections.stack.-ctor?view=net-6.0\">here</a>. "
   ]
  },
  {
   "cell_type": "code",
   "execution_count": 1,
   "id": "c832dcde",
   "metadata": {
    "dotnet_interactive": {
     "language": "csharp"
    },
    "polyglot_notebook": {
     "kernelName": "csharp"
    },
    "vscode": {
     "languageId": "polyglot-notebook"
    }
   },
   "outputs": [
    {
     "name": "stdout",
     "output_type": "stream",
     "text": [
      "3 is at the top of the stack.\n",
      "Popped 3 from the stack.\n",
      "Popped 2 from the stack.\n",
      "Popped 1 from the stack.\n"
     ]
    }
   ],
   "source": [
    "//An empty stack of integers\n",
    "Stack<int> integerStack = new Stack<int>();\n",
    "\n",
    "//Add values to the stack\n",
    "integerStack.Push(1);\n",
    "integerStack.Push(2);\n",
    "integerStack.Push(3);\n",
    "\n",
    "//Peek at the top of the stack\n",
    "Console.WriteLine($\"{integerStack.Peek()} is at the top of the stack.\");\n",
    "\n",
    "//Pop all values from the stack\n",
    "while (integerStack.Count > 0) {\n",
    "    Console.WriteLine($\"Popped {integerStack.Pop()} from the stack.\");\n",
    "}"
   ]
  },
  {
   "cell_type": "code",
   "execution_count": 2,
   "id": "db93629d",
   "metadata": {
    "dotnet_interactive": {
     "language": "csharp"
    },
    "polyglot_notebook": {
     "kernelName": "csharp"
    },
    "vscode": {
     "languageId": "polyglot-notebook"
    }
   },
   "outputs": [
    {
     "name": "stdout",
     "output_type": "stream",
     "text": [
      "dog. lazy the over jumps fox brown quick The \r\n"
     ]
    }
   ],
   "source": [
    "string sentence = \"The quick brown fox jumps over the lazy dog.\";\n",
    "\n",
    "//Create a stack from the sentence\n",
    "//Here, the string is being split into an array of words.\n",
    "Stack<string> sentenceStack = new Stack<string>(sentence.Split(' ')); \n",
    "\n",
    "string reversedSentence = \"\";\n",
    "\n",
    "//Pop all values from the stack and add them to the reversed sentence\n",
    "while (sentenceStack.Count > 0) {\n",
    "    reversedSentence += sentenceStack.Pop() + ' ';\n",
    "}\n",
    "\n",
    "Console.WriteLine(reversedSentence);"
   ]
  },
  {
   "attachments": {},
   "cell_type": "markdown",
   "metadata": {},
   "source": [
    "<span style=\"font-size:16px;\">\n",
    "<h4 style=\"font-family:Copperplate\">Queues</h4>\n",
    "Queues, by contrast, are a \"first-in, first-out\" (<code>FIFO</code>) data structure. A line at the movie theatre is an example of a queue. Instead of inserting and removing from the \"top\", items are inserted at a queue's \"end\" and removed from its \"front\"."
   ]
  },
  {
   "attachments": {},
   "cell_type": "markdown",
   "metadata": {},
   "source": [
    "<span style=\"font-size:16px;\">\n",
    "<h4 style=\"font-family:Copperplate\">Queue Operations</h4>\n",
    "Queues have three main operations for manipulating their contents: <code>enqueue</code>, <code>dequeue</code>, and <code>peek</code>.\n",
    "<ul>\n",
    "<li>\n",
    "<code>Enqueue</code> adds an item to the back of the queue.\n",
    "</li>\n",
    "<li>\n",
    "<code>Dequeue</code> removes an item from the front of the queue and returns the value.\n",
    "</li>\n",
    "<li>\n",
    "<code>Peek</code> returns the value of the item at the front of the queue without removing it.\n",
    "</li>\n",
    "</ul>\n",
    "</span>"
   ]
  },
  {
   "attachments": {},
   "cell_type": "markdown",
   "metadata": {},
   "source": [
    "<span style=\"font-size:16px;\">\n",
    "<h4 style=\"font-family:Copperplate\">Queues in C#</h4>\n",
    "In C#, queues can be initialized as an empty structure or with a list of items. You can find the C# documentation for queues <a href=\"https://docs.microsoft.com/en-us/dotnet/api/system.collections.queue.-ctor?view=net-6.0\">here</a>.\n",
    "</span>"
   ]
  },
  {
   "cell_type": "code",
   "execution_count": 3,
   "id": "f0976770",
   "metadata": {
    "dotnet_interactive": {
     "language": "csharp"
    },
    "polyglot_notebook": {
     "kernelName": "csharp"
    },
    "vscode": {
     "languageId": "polyglot-notebook"
    }
   },
   "outputs": [
    {
     "name": "stdout",
     "output_type": "stream",
     "text": [
      "1 is at the front of the queue.\n",
      "Dequeued 1 from the queue.\n",
      "Dequeued 2 from the queue.\n",
      "Dequeued 3 from the queue.\n"
     ]
    }
   ],
   "source": [
    "//An empty queue of integers\n",
    "Queue<int> integerQueue = new Queue<int>();\n",
    "\n",
    "//Add values to the queue\n",
    "integerQueue.Enqueue(1);\n",
    "integerQueue.Enqueue(2);\n",
    "integerQueue.Enqueue(3);\n",
    "\n",
    "//Peek at the front of the queue\n",
    "Console.WriteLine($\"{integerQueue.Peek()} is at the front of the queue.\");\n",
    "\n",
    "//Dequeue all values from the queue\n",
    "while (integerQueue.Count > 0) {\n",
    "    Console.WriteLine($\"Dequeued {integerQueue.Dequeue()} from the queue.\");\n",
    "}"
   ]
  },
  {
   "attachments": {},
   "cell_type": "markdown",
   "metadata": {},
   "source": [
    "<span style=\"font-size:16px;\">\n",
    "<h4 style=\"font-family:Copperplate\">Try Methods</h4>\n",
    "C# stacks and queues also have <code>TryPeek</code> and <code>TryPop</code> (stacks) or <code>TryDequeue</code> (queues) operations. These operations are similar to <code>Peek</code>, <code>Pop</code>, and <code>Dequeue</code> operations, but they return <kbd>false</kbd> when a structure is empty. These methods require a placeholder to store the item's value if they return <kbd>true</kbd>. <br /><br />\n",
    "These methods are useful for avoiding exceptions caused by attempting to get content from an empty stack or queue.\n",
    "</span>"
   ]
  },
  {
   "cell_type": "code",
   "execution_count": 4,
   "id": "2f741ab6",
   "metadata": {
    "dotnet_interactive": {
     "language": "csharp"
    },
    "polyglot_notebook": {
     "kernelName": "csharp"
    },
    "vscode": {
     "languageId": "polyglot-notebook"
    }
   },
   "outputs": [
    {
     "name": "stdout",
     "output_type": "stream",
     "text": [
      "\"Q\" is at the front of the queue.\n",
      "Dequeued \"Q\" from the queue.\n",
      "Dequeued \"u\" from the queue.\n",
      "Dequeued \"i\" from the queue.\n",
      "Dequeued \"n\" from the queue.\n",
      "Dequeued \"o\" from the queue.\n",
      "Dequeued \"a\" from the queue.\n",
      "The queue is empty.\n"
     ]
    }
   ],
   "source": [
    "string word = \"Quinoa\";\n",
    "\n",
    "//Create a queue from the word\n",
    "Queue<char> wordQueue = new Queue<char>(word);\n",
    "\n",
    "//Use TryPeek to peek at the front of the queue\n",
    "char firstCharacter;\n",
    "if(wordQueue.TryPeek(out firstCharacter)) \n",
    "    Console.WriteLine($\"\\\"{firstCharacter}\\\" is at the front of the queue.\");\n",
    "\n",
    "//Use TryDequeue to dequeue all values from the queue until the queue is empty\n",
    "char dequeuedCharacter;\n",
    "while (wordQueue.TryDequeue(out dequeuedCharacter)) {\n",
    "    Console.WriteLine($\"Dequeued \\\"{dequeuedCharacter}\\\" from the queue.\");\n",
    "}\n",
    "\n",
    "//Use TryPeek to peek at the front of the queue\n",
    "char peekCharacter;\n",
    "\n",
    "if(wordQueue.TryPeek(out peekCharacter)) \n",
    "    Console.WriteLine($\"\\\"{peekCharacter}\\\" is at the front of the queue.\");\n",
    "else Console.WriteLine(\"The queue is empty.\");"
   ]
  },
  {
   "attachments": {},
   "cell_type": "markdown",
   "metadata": {},
   "source": [
    "<hr /><span style=\"font-size:14px;\">\n",
    "<b style=\"font-size:16px;\">Exercises</b> &emsp;|&emsp; <i>Solve the exercises in the provided </i><code>code</code><i> cells.</i> <br /><br />\n",
    "1. Create a queue and fill it with the first 5 digits of pi, excluding the decimal point. \n",
    "</span>"
   ]
  },
  {
   "cell_type": "code",
   "execution_count": 5,
   "id": "3bc96042",
   "metadata": {
    "dotnet_interactive": {
     "language": "csharp"
    },
    "polyglot_notebook": {
     "kernelName": "csharp"
    },
    "vscode": {
     "languageId": "polyglot-notebook"
    }
   },
   "outputs": [],
   "source": [
    "// Exercise 1"
   ]
  },
  {
   "attachments": {},
   "cell_type": "markdown",
   "metadata": {},
   "source": [
    "<span style=\"font-size:14px;\">2. Print the value <kbd>4</kbd> to the screen using the queue from exercise 1.\n",
    "\n",
    "><span style=\"font-size:14px;\"><b>💡Hint:</b> There are multiple ways to solve this problem. Try a few different methods.</span></span>"
   ]
  },
  {
   "cell_type": "code",
   "execution_count": 6,
   "id": "08a4581d",
   "metadata": {
    "dotnet_interactive": {
     "language": "csharp"
    },
    "polyglot_notebook": {
     "kernelName": "csharp"
    },
    "vscode": {
     "languageId": "polyglot-notebook"
    }
   },
   "outputs": [],
   "source": [
    "// Exercise 2"
   ]
  },
  {
   "attachments": {},
   "cell_type": "markdown",
   "metadata": {},
   "source": [
    "<span style=\"font-size:14px;\">3. Create a stack from the given array.</span>"
   ]
  },
  {
   "cell_type": "code",
   "execution_count": 7,
   "id": "4ec4c3a3",
   "metadata": {
    "dotnet_interactive": {
     "language": "csharp"
    },
    "polyglot_notebook": {
     "kernelName": "csharp"
    },
    "vscode": {
     "languageId": "polyglot-notebook"
    }
   },
   "outputs": [],
   "source": [
    "// Exercise 3\n",
    "string[] fruits = { \"apple\", \"banana\", \"cherry\", \"durian\", \"elderberry\", \"fig\"};"
   ]
  },
  {
   "attachments": {},
   "cell_type": "markdown",
   "metadata": {},
   "source": [
    "<span style=\"font-size:14px;\">4. Use a loop to print all of a stack’s contents.</span>"
   ]
  },
  {
   "cell_type": "code",
   "execution_count": 8,
   "id": "cde9dec0",
   "metadata": {
    "dotnet_interactive": {
     "language": "csharp"
    },
    "polyglot_notebook": {
     "kernelName": "csharp"
    },
    "vscode": {
     "languageId": "polyglot-notebook"
    }
   },
   "outputs": [],
   "source": [
    "// Exercise 4"
   ]
  },
  {
   "attachments": {},
   "cell_type": "markdown",
   "metadata": {},
   "source": [
    "<span style=\"font-size:14px;\">5. What happens when you <code>Peek</code> the stack? What about when you use <code>TryPeek</code>? Demonstrate this in the code blocks, and then record your answer in a markdown cell.</span>"
   ]
  },
  {
   "cell_type": "code",
   "execution_count": 9,
   "id": "40650e0a",
   "metadata": {
    "dotnet_interactive": {
     "language": "csharp"
    },
    "polyglot_notebook": {
     "kernelName": "csharp"
    },
    "vscode": {
     "languageId": "polyglot-notebook"
    }
   },
   "outputs": [],
   "source": [
    "// Exercise 5a"
   ]
  },
  {
   "cell_type": "code",
   "execution_count": 10,
   "id": "c990f85d",
   "metadata": {
    "dotnet_interactive": {
     "language": "csharp"
    },
    "polyglot_notebook": {
     "kernelName": "csharp"
    },
    "vscode": {
     "languageId": "polyglot-notebook"
    }
   },
   "outputs": [],
   "source": [
    "// Exercise 5b"
   ]
  }
 ],
 "metadata": {
  "kernelInfo": {
   "defaultKernelName": null,
   "items": [
    {
     "aliases": [
      "c#",
      "cs"
     ],
     "languageName": "C#",
     "name": "csharp"
    },
    {
     "aliases": [
      "f#",
      "fs"
     ],
     "languageName": "F#",
     "name": "fsharp"
    },
    {
     "aliases": [
      "powershell"
     ],
     "languageName": "PowerShell",
     "name": "pwsh"
    },
    {
     "aliases": [
      "js"
     ],
     "languageName": "JavaScript",
     "name": "javascript"
    },
    {
     "languageName": "HTML",
     "name": "html"
    },
    {
     "languageName": "SQL",
     "name": "sql"
    },
    {
     "languageName": "KQL",
     "name": "kql"
    },
    {
     "languageName": "Mermaid",
     "name": "mermaid"
    },
    {
     "languageName": "HTTP",
     "name": "http"
    },
    {
     "name": "value"
    }
   ]
  },
  "language_info": {
   "name": "python"
  },
  "polyglot_notebook": {
   "kernelInfo": {
    "defaultKernelName": "csharp",
    "items": [
     {
      "aliases": [
       "c#",
       "cs"
      ],
      "languageName": "C#",
      "name": "csharp"
     },
     {
      "aliases": [
       "f#",
       "fs"
      ],
      "languageName": "F#",
      "name": "fsharp"
     },
     {
      "aliases": [],
      "languageName": "HTML",
      "name": "html"
     },
     {
      "aliases": [],
      "languageName": "http",
      "name": "httpRequest"
     },
     {
      "aliases": [
       "js"
      ],
      "languageName": "JavaScript",
      "name": "javascript"
     },
     {
      "aliases": [],
      "languageName": "KQL",
      "name": "kql"
     },
     {
      "aliases": [],
      "languageName": "Mermaid",
      "name": "mermaid"
     },
     {
      "aliases": [
       "powershell"
      ],
      "languageName": "PowerShell",
      "name": "pwsh"
     },
     {
      "aliases": [],
      "languageName": "SQL",
      "name": "sql"
     },
     {
      "aliases": [],
      "name": "value"
     }
    ]
   }
  }
 },
 "nbformat": 4,
 "nbformat_minor": 5
}

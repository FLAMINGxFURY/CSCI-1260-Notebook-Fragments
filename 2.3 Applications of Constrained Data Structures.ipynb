{
 "cells": [
  {
   "attachments": {},
   "cell_type": "markdown",
   "metadata": {},
   "source": [
    "<span style=\"font-size:16px;\">\n",
    "<h1 style=\"font-family:Copperplate\">Applications of Constrained Data Structures</h1>\n",
    "Stacks and queues are <i>constrained data types</i>. They’re derived from parent data types – i.e., lists – by limiting how their parent types can be accessed and manipulated.<br/> <br/>\n",
    "Strictly speaking, programming languages don’t need to provide constrained data types, so long as they provide their parent types. Lists, for example, can be made to function like stacks and queues.<br/><br/>\n",
    "Still, constrained data types can make code easier to read and maintain by <b><i>clarifying how data is meant to be processed</i></b>. For example, using a stack clarifies that its data is being processed in a LIFO (last in, first out) fashion. Similarly, queues clarify that data is being processed in a FIFO (first in, first out) fashion.<br/><br/>\n",
    "Constrained types can also help to prevent coding errors by reducing the need to write code. For example, code that uses a list to simulate a queue must compute the index of that list’s last item. A queue’s <code>enqueue</code> and <code>dequeue</code> methods do this for you, eliminating the need to write extra code. Similarly, using a stack’s  <code>push</code> and <code>pop</code> methods eliminates the need to write code that shifts a list’s elements in memory as items are added to or removed from the stack. <br/><br/>\n",
    "Below are some examples of how stacks and queues can be used.\n",
    "</span>"
   ]
  },
  {
   "attachments": {},
   "cell_type": "markdown",
   "metadata": {},
   "source": [
    "<span style=\"font-size:16px;\">\n",
    "<h4 style=\"font-family:Copperplate\">Detecting Syntax Errors With Stacks</h4>\n",
    "In C#, code is structured with a variety of braces and parentheses. Stacks can be used to detect the incorrect use of these symbols.\n",
    "</span>"
   ]
  },
  {
   "cell_type": "code",
   "execution_count": 1,
   "id": "25ba5750",
   "metadata": {
    "dotnet_interactive": {
     "language": "csharp"
    },
    "polyglot_notebook": {
     "kernelName": "csharp"
    },
    "vscode": {
     "languageId": "polyglot-notebook"
    }
   },
   "outputs": [],
   "source": [
    "//A function to determine is a string has valid syntax using a stack. \n",
    "bool IsValid(string code) {\n",
    "\n",
    "    //Create a stack to store the opening brackets.\n",
    "    Stack<char> stack = new Stack<char>();\n",
    "\n",
    "    //List of all opening brackets.\n",
    "    char[] openingBraces = new char[] {'{', '[', '(', '<'};\n",
    "\n",
    "    //List of all closing brackets.\n",
    "    char[] closingBraces = new char[] {'}', ']', ')', '>'};\n",
    "\n",
    "    //Loop through each character in the string.\n",
    "    foreach (char c in code) {\n",
    "        //If the character is an opening bracket, push it to the stack.\n",
    "        if (openingBraces.Contains(c)) stack.Push(c);\n",
    "\n",
    "        //If the character is a closing bracket, compare it to the last opening bracket in the stack.\n",
    "        else if (closingBraces.Contains(c)) {\n",
    "            //Placeholder variable.\n",
    "            char lastOpeningBracket;\n",
    "\n",
    "            //Try to pop the last opening bracket from the stack.\n",
    "            if (stack.TryPop(out lastOpeningBracket)) {\n",
    "                //If the last opening bracket is not the same as the closing bracket, the string is invalid.\n",
    "                if (Array.IndexOf(openingBraces, lastOpeningBracket) != Array.IndexOf(closingBraces, c))\n",
    "                    return false;\n",
    "            }\n",
    "            //If the stack is empty, this closing bracket lacks an opening bracket.\n",
    "            else return false;\n",
    "        }\n",
    "    }\n",
    "\n",
    "    //If the stack is not empty, the string is invalid.\n",
    "    if (stack.TryPeek(out char temp)) return false;\n",
    "\n",
    "    //If we make it to the end of the string, the string is valid.\n",
    "    return true;\n",
    "}"
   ]
  },
  {
   "cell_type": "code",
   "execution_count": 2,
   "id": "cbc48b0a",
   "metadata": {
    "dotnet_interactive": {
     "language": "csharp"
    },
    "polyglot_notebook": {
     "kernelName": "csharp"
    },
    "vscode": {
     "languageId": "polyglot-notebook"
    }
   },
   "outputs": [
    {
     "name": "stdout",
     "output_type": "stream",
     "text": [
      "String 1 is valid.\n",
      "String 2 is not valid.\n",
      "String 3 is not valid.\n"
     ]
    }
   ],
   "source": [
    "//Test the IsValid method with the following strings, or some of your own.\n",
    "\n",
    "//Test case strings. The first example should pass the test, the other two will not.\n",
    "string example1 = @\"List<int> list = new List<int>() {1, 2, 3};\";\n",
    "string example2 = @\"List<int> list = new List<int>() {1, 2, 3;\";\n",
    "string example3 = @\"Listint> list = new List<int>() {1, 2, 3};\";\n",
    "\n",
    "//The print statement below uses a ternary operator to print \"valid\" or \"not valid\".\n",
    "//You can read more about it here: https://docs.microsoft.com/en-us/dotnet/csharp/language-reference/operators/conditional-operator\n",
    "Console.WriteLine($\"String 1 is {(IsValid(example1) ? \"\" : \"not \")}valid.\");\n",
    "Console.WriteLine($\"String 2 is {(IsValid(example2) ? \"\" : \"not \")}valid.\");\n",
    "Console.WriteLine($\"String 3 is {(IsValid(example3) ? \"\" : \"not \")}valid.\");"
   ]
  },
  {
   "attachments": {},
   "cell_type": "markdown",
   "metadata": {},
   "source": [
    "<span style=\"font-size:16px;\">\n",
    "In the example above, the use of a stack clarifies the programmer's intent. Opening braces are added to the stack, and the stack’s topmost character is used to verify that it eventually matches a closing brace.<br /><br />\n",
    "Stacks commonly store data for short lengths of time. In the example above, the stack only holds a few characters which are regularly discarded.\n",
    "</span>"
   ]
  },
  {
   "attachments": {},
   "cell_type": "markdown",
   "metadata": {},
   "source": [
    "<span style=\"font-size:16px;\">\n",
    "<h4 style=\"font-family:Copperplate\">Using a Queue to Hold Print Jobs</h4>\n",
    "Queues support FIFO processing, which has different use cases. This next example demonstrates the use of a queue to temporarily hold print jobs until they complete.\n",
    "</span>"
   ]
  },
  {
   "cell_type": "code",
   "execution_count": 3,
   "id": "05761d51",
   "metadata": {
    "dotnet_interactive": {
     "language": "csharp"
    },
    "polyglot_notebook": {
     "kernelName": "csharp"
    },
    "vscode": {
     "languageId": "polyglot-notebook"
    }
   },
   "outputs": [],
   "source": [
    "//First, we need a print job class.\n",
    "public class PrintJob {\n",
    "    // For the sake of this example, we will be printing the \"job\" to the console.\n",
    "    public string toPrint { get; set; }\n",
    "\n",
    "    // This random value will be used for the delay, for demonstration purposes.\n",
    "    public int delayInMs = new Random().Next(50, 500);\n",
    "}"
   ]
  },
  {
   "cell_type": "code",
   "execution_count": 4,
   "id": "6b8e836d",
   "metadata": {
    "dotnet_interactive": {
     "language": "csharp"
    },
    "polyglot_notebook": {
     "kernelName": "csharp"
    },
    "vscode": {
     "languageId": "polyglot-notebook"
    }
   },
   "outputs": [],
   "source": [
    "using System.Threading; //used for the delay\n",
    "\n",
    "//Now, we need a method to print a job.\n",
    "public void PrintJob(PrintJob job) {\n",
    "    //Wait the job's delay.\n",
    "    Thread.Sleep(job.delayInMs);\n",
    "    //Print the job to the console.\n",
    "    Console.WriteLine(job.toPrint);\n",
    "}"
   ]
  },
  {
   "cell_type": "code",
   "execution_count": 5,
   "id": "72eb2476",
   "metadata": {
    "dotnet_interactive": {
     "language": "csharp"
    },
    "polyglot_notebook": {
     "kernelName": "csharp"
    },
    "vscode": {
     "languageId": "polyglot-notebook"
    }
   },
   "outputs": [
    {
     "name": "stdout",
     "output_type": "stream",
     "text": [
      "The\n",
      "quick\n",
      "brown\n",
      "fox\n",
      "jumps\n",
      "over\n",
      "the\n",
      "lazy\n",
      "dog.\n"
     ]
    }
   ],
   "source": [
    "//Each of this string's words will be a print job.\n",
    "string printJobString = \"The quick brown fox jumps over the lazy dog.\";\n",
    "\n",
    "//A queue to store the print jobs.\n",
    "Queue<PrintJob> printJobQueue = new Queue<PrintJob>();\n",
    "\n",
    "foreach (string word in printJobString.Split(' ')) {\n",
    "    //Create a new print job.\n",
    "    PrintJob job = new PrintJob();\n",
    "    //Set the print job's string to the current word.\n",
    "    job.toPrint = word;\n",
    "    //Add the print job to the queue.\n",
    "    printJobQueue.Enqueue(job);\n",
    "}\n",
    "\n",
    "//Go through the queue and print the jobs.\n",
    "PrintJob current = null;\n",
    "//While there are jobs in the queue, keep printing jobs.\n",
    "while (printJobQueue.TryPeek(out current)) {\n",
    "    //Print the current job.\n",
    "    PrintJob(current);\n",
    "    //Dequeue the job when it's done printing.\n",
    "    printJobQueue.Dequeue();\n",
    "}"
   ]
  },
  {
   "attachments": {},
   "cell_type": "markdown",
   "metadata": {},
   "source": [
    "<hr /><span style=\"font-size:14px;\">\n",
    "<b style=\"font-size:16px;\">Exercises</b> &emsp;|&emsp; <i>Place your answers in a <b>new</b> markdown cell below.</i>\n",
    "<ol>\n",
    "<li>List some other potential uses for stacks and queues.<br /><br /></li>\n",
    "<li> Explain what the following code accomplishes.\n",
    "\n",
    "```csharp\n",
    "foreach (int x in list) {\n",
    "    Console.Write($\"{x} \");\n",
    "}\n",
    "```\n",
    "\n",
    "</li> \n",
    "<li> Explain what the following code accomplishes.\n",
    "\n",
    "```csharp\n",
    "string s = \"\";\n",
    "while (stack.TryPop(out s)) {\n",
    "    Console.WriteLine(s);\n",
    "}\n",
    "```\n",
    "\n",
    "</li> \n",
    "<li> Explain what the following code accomplishes.\n",
    "\n",
    "```csharp\n",
    "string s = \"\";\n",
    "char nextLetter;\n",
    "while (stack.TryPop(out nextLetter)) {\n",
    "    s += nextLetter;\n",
    "}\n",
    "```\n",
    "\n",
    "</li> \n",
    "<li> Explain what the following code accomplishes.\n",
    "\n",
    "```csharp\n",
    "string s = \"\";\n",
    "if (queue.TryDequeue(out s)) {\n",
    "    Console.WriteLine(s);\n",
    "}\n",
    "else {\n",
    "    Console.WriteLine(\"Queue is empty.\");\n",
    "}\n",
    "```\n",
    "\n",
    "</li> \n",
    "<li> What is (are) the difference(s) between using <code>foreach</code> with a list to process data and using <code>Pop</code> in a stack or <code>Dequeue</code> in a queue?<br /><br /></li>\n",
    "</span>"
   ]
  }
 ],
 "metadata": {
  "kernelInfo": {
   "defaultKernelName": null,
   "items": [
    {
     "aliases": [
      "c#",
      "cs"
     ],
     "languageName": "C#",
     "name": "csharp"
    },
    {
     "aliases": [
      "f#",
      "fs"
     ],
     "languageName": "F#",
     "name": "fsharp"
    },
    {
     "aliases": [
      "powershell"
     ],
     "languageName": "PowerShell",
     "name": "pwsh"
    },
    {
     "aliases": [
      "js"
     ],
     "languageName": "JavaScript",
     "name": "javascript"
    },
    {
     "languageName": "HTML",
     "name": "html"
    },
    {
     "languageName": "SQL",
     "name": "sql"
    },
    {
     "languageName": "KQL",
     "name": "kql"
    },
    {
     "languageName": "Mermaid",
     "name": "mermaid"
    },
    {
     "languageName": "HTTP",
     "name": "http"
    },
    {
     "name": "value"
    }
   ]
  },
  "language_info": {
   "name": "python"
  },
  "polyglot_notebook": {
   "kernelInfo": {
    "defaultKernelName": "csharp",
    "items": [
     {
      "aliases": [],
      "name": "csharp"
     }
    ]
   }
  }
 },
 "nbformat": 4,
 "nbformat_minor": 5
}

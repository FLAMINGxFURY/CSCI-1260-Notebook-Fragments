{
 "cells": [
  {
   "attachments": {},
   "cell_type": "markdown",
   "metadata": {},
   "source": [
    "<span style=\"font-size:16px;\">\n",
    "<h1 style=\"font-family:Copperplate\">Access by Association</h1>\n",
    "Ordered data structures like arrays and lists support the use of <code>indexes</code> to access their elements. Indexing implies that a structure’s data has a natural ordering: one that’s often based on time or spatial location. Other datasets, however, have no such order. For example, the following array contains grades for a class of 10 students:<br /><br />\n",
    "\n",
    ">```csharp\n",
    ">int[] grades = { 97, 26, 85, 85, 92, 91, 89, 85, 74, 90 };\n",
    ">```\n",
    "It is not clear how to assign meaningful, numeric indexes for this list of data; e.g., for Andrea as opposed to Tomas.\n",
    "</span>"
   ]
  },
  {
   "attachments": {},
   "cell_type": "markdown",
   "metadata": {},
   "source": [
    "<span style=\"font-size:16px;\">\n",
    "<h4 style=\"font-family:Copperplate\">Key-Value Pairs</h4>\n",
    "A common alternative to indexing uses a <code>key-value pair</code> to associate a <i>value</i>, or item of interest, with a <i>key</i>, or a mnemonic and typically unique referent for that value. Collections of key-value pairs allow values to be accessed using their keys. These collections go by many names, including <code>associative arrays</code>, <code>symbol tables</code>, <code>dictionaries</code>, and <code>maps</code>. They are often implemented as <code>hash tables</code> or <code>hash maps</code>, which support fast access to their contents: for example, in modern versions of .NET and Python. <br/><br/>\n",
    "Your language's documentation will document how it names and implements these collections. C#'s <code>Dictionary</code> documentation can be found <a href=\"https://learn.microsoft.com/en-us/dotnet/api/system.collections.generic.dictionary-2?view=net-6.0\">here</a>.\n",
    "</span>"
   ]
  },
  {
   "attachments": {},
   "cell_type": "markdown",
   "metadata": {},
   "source": [
    "<span style=\"font-size:16px;\">\n",
    "<h4 style=\"font-family:Copperplate\">Using Key-Value Pairs</h4>\n",
    "Using HTML, a gradebook could be structured as follows:<br /><br />\n",
    "<table>\n",
    "    <tr>\n",
    "        <th>Student</th>\n",
    "        <th>Grade</th>\n",
    "    </tr>\n",
    "    <tr>\n",
    "        <td>Andrea</td>\n",
    "        <td>97</td>\n",
    "    </tr>\n",
    "    <tr>\n",
    "        <td>Samuel</td>\n",
    "        <td>26</td>\n",
    "    </tr>\n",
    "    <tr>\n",
    "        <td>Gerald</td>\n",
    "        <td>85</td>\n",
    "    </tr>\n",
    "    <tr>\n",
    "        <td>Tomas</td>\n",
    "        <td>85</td>\n",
    "    </tr>\n",
    "    <tr>\n",
    "        <td>William</td>\n",
    "        <td>92</td>\n",
    "    </tr>\n",
    "    <tr>\n",
    "        <td>Xander</td>\n",
    "        <td>91</td>\n",
    "    </tr>\n",
    "    <tr>\n",
    "        <td>Rachael</td>\n",
    "        <td>89</td>\n",
    "    </tr>\n",
    "    <tr>\n",
    "        <td>Collin</td>\n",
    "        <td>85</td>\n",
    "    </tr>\n",
    "    <tr>\n",
    "        <td>Brutus</td>\n",
    "        <td>74</td>\n",
    "    </tr>\n",
    "    <tr>\n",
    "        <td>Caesar</td>\n",
    "        <td>90</td>\n",
    "    </tr>\n",
    "</table>\n",
    "<br />\n",
    "Here, the <code>key</code> is the student's name, and the <code>value</code> is the student's grade. Accesses of the grade should look like this:<br /><br />\n",
    "\n",
    ">```csharp\n",
    ">Console.WriteLine(gradebook[\"Andrea\"]); // 97\n",
    ">gradebook[\"Samuel\"] += 10; // now 36\n",
    ">//...\n",
    ">```\n",
    "This table can be represented by a <code>List</code> of <code>KeyValuePairs</code>."
   ]
  },
  {
   "cell_type": "code",
   "execution_count": 1,
   "id": "fb87aa47",
   "metadata": {
    "dotnet_interactive": {
     "language": "csharp"
    },
    "polyglot_notebook": {
     "kernelName": "csharp"
    },
    "vscode": {
     "languageId": "polyglot-notebook"
    }
   },
   "outputs": [
    {
     "ename": "Error",
     "evalue": "(4,53): error CS1503: Argument 1: cannot convert from 'string' to 'int'",
     "output_type": "error",
     "traceback": [
      "(4,53): error CS1503: Argument 1: cannot convert from 'string' to 'int'"
     ]
    }
   ],
   "source": [
    "List<KeyValuePair<string, int>> gradebook = new List<KeyValuePair<string, int>>();\n",
    "\n",
    "gradebook.Add(new KeyValuePair<string, int>(\"Andrea\", 97));     // Add Andrea's grade to the gradebook\n",
    "Console.WriteLine(\"Andrea's grade is: \" + gradebook[\"Andrea\"]); // Print Andrea's grade"
   ]
  },
  {
   "attachments": {},
   "cell_type": "markdown",
   "metadata": {},
   "source": [
    "<span style=\"font-size:16px;\">\n",
    "This example won’t compile because <code>List</code> does not have a way to access elements by key. We can iterate through the list to find a particular key:\n",
    "</span>"
   ]
  },
  {
   "cell_type": "code",
   "execution_count": 6,
   "id": "a8555032",
   "metadata": {
    "dotnet_interactive": {
     "language": "csharp"
    },
    "polyglot_notebook": {
     "kernelName": "csharp"
    },
    "vscode": {
     "languageId": "polyglot-notebook"
    }
   },
   "outputs": [],
   "source": [
    "List<KeyValuePair<string, int>> gradebook = new List<KeyValuePair<string, int>>();\n",
    "\n",
    "foreach (KeyValuePair<string, int> student in gradebook) {\n",
    "    if (student.Key == \"Andrea\") \n",
    "        Console.WriteLine(\"Andrea's grade is: \" + student.Value);\n",
    "}"
   ]
  },
  {
   "attachments": {},
   "cell_type": "markdown",
   "metadata": {},
   "source": [
    "<span style=\"font-size:16px;\">\n",
    "However, this code is not easy to read. The <code>AssociativeArray</code> class below is a wrapper around a <code>List</code> of <code>KeyValuePairs</code> that provides access to the table's elements by key. \n",
    "</span>"
   ]
  },
  {
   "cell_type": "code",
   "execution_count": 3,
   "id": "a216e859",
   "metadata": {
    "dotnet_interactive": {
     "language": "csharp"
    },
    "polyglot_notebook": {
     "kernelName": "csharp"
    },
    "vscode": {
     "languageId": "polyglot-notebook"
    }
   },
   "outputs": [],
   "source": [
    "public class KVP<TKey, TValue> { // KeyValuePairs in C# are completely immutable; this class allows for a mutable Value\n",
    "    public TKey Key { get; }\n",
    "    public TValue Value { get; set; }\n",
    "\n",
    "    public KVP(TKey key, TValue value) {\n",
    "        this.Key = key;\n",
    "        this.Value = value;\n",
    "    }\n",
    "}"
   ]
  },
  {
   "cell_type": "code",
   "execution_count": 4,
   "id": "1d294549",
   "metadata": {
    "dotnet_interactive": {
     "language": "csharp"
    },
    "polyglot_notebook": {
     "kernelName": "csharp"
    },
    "vscode": {
     "languageId": "polyglot-notebook"
    }
   },
   "outputs": [],
   "source": [
    "class AssociativeArray {\n",
    "    // The underlying data structure\n",
    "    private List<KVP<string, int>> _list = new List<KVP<string, int>>();\n",
    "\n",
    "    // We can override the [] operator using the 'this' keyword\n",
    "    public int this[string key] {\n",
    "        set {\n",
    "            // If the key already exists, update the value\n",
    "            for (int i = 0; i < _list.Count; i++) {\n",
    "                if (_list[i].Key == key) {\n",
    "                    _list[i].Value = value; // value is a special keyword that refers to the value to the right of the '='\n",
    "                    return;\n",
    "                }\n",
    "            }\n",
    "\n",
    "            // Otherwise, add the key/value pair to the list\n",
    "            _list.Add(new KVP<string, int>(key, value));\n",
    "        }\n",
    "        get {\n",
    "            // This is the loop from the previous example\n",
    "            foreach (KVP<string, int> item in _list) {\n",
    "                if (item.Key == key) return item.Value;\n",
    "            }\n",
    "            return -1;   //assumption: students won't be assigned negative grades, so -1 is a safe default\n",
    "        }\n",
    "    }\n",
    "\n",
    "    // This method adds a key/value pair to the list\n",
    "    public void Add(string key, int value) {\n",
    "        _list.Add(new KVP<string, int>(key, value));\n",
    "    }    \n",
    "}"
   ]
  },
  {
   "cell_type": "code",
   "execution_count": 5,
   "id": "e3c479aa",
   "metadata": {
    "dotnet_interactive": {
     "language": "csharp"
    },
    "polyglot_notebook": {
     "kernelName": "csharp"
    },
    "vscode": {
     "languageId": "polyglot-notebook"
    }
   },
   "outputs": [
    {
     "name": "stdout",
     "output_type": "stream",
     "text": [
      "Andrea's grade is: 97\n",
      "Samuel's grade is: 26\n",
      "Gerald's grade is: 85\n",
      "Samuel's grade is: 36\n"
     ]
    }
   ],
   "source": [
    "// Create a new associative array and add the grades to it\n",
    "AssociativeArray gradebook = new AssociativeArray();\n",
    "gradebook[\"Andrea\"] = 97;\n",
    "gradebook[\"Samuel\"] = 26;\n",
    "gradebook[\"Gerald\"] = 85;\n",
    "\n",
    "// Print the grades\n",
    "Console.WriteLine(\"Andrea's grade is: \" + gradebook[\"Andrea\"]);\n",
    "Console.WriteLine(\"Samuel's grade is: \" + gradebook[\"Samuel\"]);\n",
    "Console.WriteLine(\"Gerald's grade is: \" + gradebook[\"Gerald\"]);\n",
    "\n",
    "// Update Samuel's grade\n",
    "gradebook[\"Samuel\"] += 10;\n",
    "Console.WriteLine(\"Samuel's grade is: \" + gradebook[\"Samuel\"]);"
   ]
  },
  {
   "attachments": {},
   "cell_type": "markdown",
   "metadata": {},
   "source": [
    "<span style=\"font-size:16px;\">\n",
    "This code clarifies whose grade is being accessed. The next sections cover applications for these types of data structures and how to make them more efficient. \n",
    "</span>"
   ]
  },
  {
   "attachments": {},
   "cell_type": "markdown",
   "metadata": {},
   "source": [
    "<hr /><span style=\"font-size:14px;\">\n",
    "<b style=\"font-size:16px;\">Exercises</b> &emsp;|&emsp; <i>Place your answers in a <b>new</b> markdown cell below.</i>\n",
    "<ol>\n",
    "<li>Given <kbd>array =  {17.5, 16.7, 0.0, 8.4, 99.3, 66.7, 59.8}</kbd>, what value does <code>array[2]</code> access?<br /><br /></li>\n",
    "<li>Given the same array, what value does <code>array[“Tuesday”]</code> access?<br /><br /></li>\n",
    "<li>Given: <br /> <kbd>dictionary = {<br />&emsp;Sunday: 17.5,<br /> &emsp;Monday: 16.7,<br /> &emsp;Tuesday: 0.0,<br /> &emsp;Wednesday: 8.4,<br /> &emsp;Thursday: 99.3,<br /> &emsp;Friday: 66.7,<br /> &emsp;Saturday: 59.8<br />}</kbd><br /> what value does <code>dictionary[2]</code> access?<br /><br /></li>\n",
    "<li>Given the same dictionary, what value does <code>dictionary[“Tuesday”]</code> access?<br /><br /></li>\n",
    "<li>Given the same dictionary, what value does <code>dictionary[“February”]</code> access?<br /><br /></li>\n",
    "<li>What can you infer about the data being stored in these structures? How does that inference change from one to the other, if at all?</li>\n",
    "</ol>\n",
    "</span>"
   ]
  }
 ],
 "metadata": {
  "kernelInfo": {
   "defaultKernelName": null,
   "items": [
    {
     "aliases": [
      "c#",
      "cs"
     ],
     "languageName": "C#",
     "name": "csharp"
    },
    {
     "aliases": [
      "f#",
      "fs"
     ],
     "languageName": "F#",
     "name": "fsharp"
    },
    {
     "aliases": [
      "powershell"
     ],
     "languageName": "PowerShell",
     "name": "pwsh"
    },
    {
     "aliases": [
      "js"
     ],
     "languageName": "JavaScript",
     "name": "javascript"
    },
    {
     "languageName": "HTML",
     "name": "html"
    },
    {
     "languageName": "SQL",
     "name": "sql"
    },
    {
     "languageName": "KQL",
     "name": "kql"
    },
    {
     "languageName": "Mermaid",
     "name": "mermaid"
    },
    {
     "languageName": "HTTP",
     "name": "http"
    },
    {
     "name": "value"
    }
   ]
  },
  "language_info": {
   "name": "python"
  },
  "polyglot_notebook": {
   "kernelInfo": {
    "defaultKernelName": "csharp",
    "items": [
     {
      "aliases": [],
      "name": "csharp"
     }
    ]
   }
  }
 },
 "nbformat": 4,
 "nbformat_minor": 5
}

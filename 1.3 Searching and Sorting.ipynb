{
 "cells": [
  {
   "attachments": {},
   "cell_type": "markdown",
   "metadata": {},
   "source": [
    "<span style=\"font-size:16px;\">\n",
    "<h1 style=\"font-family:Copperplate\">Searching and Sorting</h1>\n",
    "Arrays are commonly searched for values of interest, like social security numbers or other values that <i>key</i>, or associate, a row of data with a person, place, or thing. Ideally, we’d minimize search runtimes to avoid users waiting. <br/><br/>\n",
    "This section covers some of the considerations involved in creating logic for searching an array for values, including the supporting logic needed to <i>sort</i> (i.e., order) an array’s contents to make searching more efficient. We begin with an examination of how different implementations  of Chapter 1.1’s <code>Array.IndexOf()</code> method, which identifies a value’s position in an array, affect its performance.  These examples use the following starter array to illustrate searching.\n",
    "</span>"
   ]
  },
  {
   "cell_type": "code",
   "execution_count": 1,
   "id": "0081c6fd",
   "metadata": {
    "dotnet_interactive": {
     "language": "csharp"
    },
    "polyglot_notebook": {
     "kernelName": "csharp"
    },
    "vscode": {
     "languageId": "polyglot-notebook"
    }
   },
   "outputs": [],
   "source": [
    "// The following block of code uses the contents of a file to initialize inputArray\n",
    "\n",
    "using System.IO;\n",
    "\n",
    "int[] inputArray = new int[30];\n",
    "\n",
    "// The using statement: https://docs.microsoft.com/en-us/dotnet/csharp/language-reference/keywords/using\n",
    "// \"var\" and duck typing: https://docs.microsoft.com/en-us/dotnet/csharp/language-reference/keywords/var \n",
    "using(var reader = new StreamReader(@\"./Assets/inputArray.txt\")) {\n",
    "    for (int i = 0; i < 30; i++) {\n",
    "        var line = reader.ReadLine();\n",
    "        inputArray[i] = int.Parse(line);\n",
    "    }\n",
    "}"
   ]
  },
  {
   "attachments": {},
   "cell_type": "markdown",
   "metadata": {},
   "source": [
    "<span style=\"font-size:16px;\">\n",
    "The simplest way to search an array is to check each value in ascending order, continuing until a match is found or all checks fail. Below is code to mimic <code>Array.IndexOf()</code>. Try it for yourself!\n",
    "</span>"
   ]
  },
  {
   "cell_type": "code",
   "execution_count": 2,
   "id": "5c06d063",
   "metadata": {
    "dotnet_interactive": {
     "language": "csharp"
    },
    "polyglot_notebook": {
     "kernelName": "csharp"
    },
    "vscode": {
     "languageId": "polyglot-notebook"
    }
   },
   "outputs": [],
   "source": [
    "// Run this code block before trying to use FindIndex()\n",
    "\n",
    "int FindIndex(int[] arrayToIndex, int value) {\n",
    "    for(int i = 0; i < arrayToIndex.Length; i++) {\n",
    "        if(arrayToIndex[i] == value) return i;  // we found a match; stop searching\n",
    "    }\n",
    "\n",
    "    return -1;    // return -1 if value isn’t found\n",
    "}"
   ]
  },
  {
   "cell_type": "code",
   "execution_count": 3,
   "id": "bba75c4d",
   "metadata": {
    "dotnet_interactive": {
     "language": "csharp"
    },
    "polyglot_notebook": {
     "kernelName": "csharp"
    },
    "vscode": {
     "languageId": "polyglot-notebook"
    }
   },
   "outputs": [
    {
     "name": "stdout",
     "output_type": "stream",
     "text": [
      "FindIndex() found 409 at index\t\t 26\n",
      "Array.IndexOf() found 409 at index\t 26\n"
     ]
    }
   ],
   "source": [
    "Console.WriteLine($\"FindIndex() found 409 at index\\t\\t {FindIndex(inputArray, 409)}\");\n",
    "Console.WriteLine($\"Array.IndexOf() found 409 at index\\t {Array.IndexOf(inputArray, 409)}\");"
   ]
  },
  {
   "attachments": {},
   "cell_type": "markdown",
   "metadata": {},
   "source": [
    "<span style=\"font-size:16px;\">\n",
    "<h4 style=\"font-family:Copperplate;margin-bottom:6pt;\">Quantifying Efficiency: Time and Space Complexity</h4>\n",
    "<code>FindIndex</code> implements one of many strategies, or <i>algorithms</i>, for doing searches. As a rule, multiple algorithms have been devised for common problems like searching, in part because algorithms perform differently for different collections of data.</br></br>\n",
    "Two <i>metrics</i> (measures) are commonly used to characterize an algorithm’s efficiency. One, <b>Time Complexity</b>, measures how many operations an algorithm might need to complete in relation to the size of its input. The other, <b>Space Complexity</b>, measures how much memory an algorithm might use during its runtime. Depending on context, these metrics may be used to characterize an algorithm’s worst-case or its expected (i.e., average) behavior. Metrics may also be specified relative to assumptions about the algorithm’s input. In every case, the assumptions that underly a metric’s use should be clearly specified as a part of a characterization of an algorithm’s behavior.<br /><br />\n",
    "Consider, for example, the time and space complexity of <code>FindIndex()</code>, relative to an arbitrary array of n elements.<br /><br />\n",
    "<i>How many operations will it take to complete?</i> In the worst case, <code>FindIndex()</code>must examine all of an n-element array's elements to conclude that a value is missing. This assertion is denoted using Big-O notation, as follows:<br /><br />\n",
    "\n",
    ">$O(n)$\n",
    "\n",
    "where <i>n</i> is the length of the input.<br /><br />\n",
    "<i>How much memory will it use?</i> The method uses two variables: the return variable <code>index</code>, and the loop variable <code>i</code>. Using Big-O notation, this assertion is denoted as follows:\n",
    "\n",
    ">$O(1)$\n",
    "\n",
    "because a constant number of variables are used, regardless of the size of the input.<br /><br />\n",
    "Consult (e.g.) Khan Academy’s references on <a href=\"https://www.khanacademy.org/computing/computer-science/algorithms/asymptotic-notation/a/asymptotic-notation\">time complexity</a> and <a href=\"https://www.khanacademy.org/computing/computer-science/algorithms/asymptotic-notation/a/big-o-notation\">Big-O notation</a> for more information on both topics.\n",
    "\n",
    "<img src=\"https://raw.githubusercontent.com/FLAMINGxFURY/TextbookTemp/main/Chapter%201%20-%20Array%20and%20Array%20Algorithms/Assets/timecomplexity.jpg\" style=\"width:90%;\" /> <br /><a href=\"https://www.bigocheatsheet.com/\" style=\"font-size:11px;\">Source: Big-O Cheat Sheet</a>\n",
    "</span>"
   ]
  },
  {
   "attachments": {},
   "cell_type": "markdown",
   "metadata": {},
   "source": [
    "<span style=\"font-size:16px;\">\n",
    "<h4 style=\"font-family:Copperplate;margin-bottom:6pt;\">Sorting</h4>\n",
    "A second common operation on arrays, sorting, is typically used to make arrays easier to search and audit: e.g., to check for duplicate, missing, or invalid values. In C#, you can do this with the <code>Array.sort()</code> method.\n",
    "</span>"
   ]
  },
  {
   "cell_type": "code",
   "execution_count": 4,
   "id": "080735df",
   "metadata": {
    "dotnet_interactive": {
     "language": "csharp"
    },
    "polyglot_notebook": {
     "kernelName": "csharp"
    },
    "vscode": {
     "languageId": "polyglot-notebook"
    }
   },
   "outputs": [
    {
     "name": "stdout",
     "output_type": "stream",
     "text": [
      "22, 660, 841, 381, 889, 979, 267, 606, 768, 853, 656, 955, 691, 960, 253, 658, 504, 996, 821, 640, 751, 396, 201, 464, 961, 702, 409, 475, 234, 686\n",
      "22, 201, 234, 253, 267, 381, 396, 409, 464, 475, 504, 606, 640, 656, 658, 660, 686, 691, 702, 751, 768, 821, 841, 853, 889, 955, 960, 961, 979, 996\n"
     ]
    }
   ],
   "source": [
    "// Make a copy of the same length\n",
    "int[] sortedArray = new int[inputArray.Length];\n",
    "inputArray.CopyTo(sortedArray, 0);\n",
    "\n",
    "// Sort the array\n",
    "Array.Sort(sortedArray);\n",
    "\n",
    "Console.WriteLine(String.Join(\", \", inputArray));\n",
    "Console.WriteLine(String.Join(\", \", sortedArray));"
   ]
  },
  {
   "attachments": {},
   "cell_type": "markdown",
   "metadata": {},
   "source": [
    "<span style=\"font-size:16px;\">\n",
    "Sorting an array takes more operations than searching an array. Intuitively, this is because the final position of each of a sorted array’s values depends on the values of that array’s other elements. <br /><br /> \n",
    "The following code shows an implementation of <b>Bubble Sort</b>, one of the simplest sorting algorithms. In Bubble Sort, the first value in the array is compared to the next value. The greater of the two is moved forward and compared to the next value, until the end of the array is reached. In this way, the greatest value eventually \"bubbles up\" to the top of the array. The greatest value is moved to the end of the array, and the algorithm restarts from the beginning, ignoring that last value.\n",
    "\n",
    "</span>"
   ]
  },
  {
   "cell_type": "code",
   "execution_count": 5,
   "id": "ce0d6e0e",
   "metadata": {
    "dotnet_interactive": {
     "language": "csharp"
    },
    "polyglot_notebook": {
     "kernelName": "csharp"
    },
    "vscode": {
     "languageId": "polyglot-notebook"
    }
   },
   "outputs": [],
   "source": [
    "void bubbleSort(int[] arrayToSort){\n",
    "    \n",
    "    for (int i = 0; i < arrayToSort.Length - 1; i++) {          // for each pair of values in the array (hence the -1)\n",
    "        for (int j = 0; j < arrayToSort.Length - i - 1; j++) {  // for each pair in the array, minus solved values\n",
    "            if (arrayToSort[j] > arrayToSort[j + 1]) {  // if the value is greater than the next value, move it forward\n",
    "                int temp = arrayToSort[j];              // temp is required for the swap here so that \n",
    "                arrayToSort[j] = arrayToSort[j + 1];    // a value isn't overwritten\n",
    "                arrayToSort[j + 1] = temp;\n",
    "            }\n",
    "        }\n",
    "    }\n",
    "}"
   ]
  },
  {
   "cell_type": "code",
   "execution_count": 6,
   "id": "b936b15f",
   "metadata": {
    "dotnet_interactive": {
     "language": "csharp"
    },
    "polyglot_notebook": {
     "kernelName": "csharp"
    },
    "vscode": {
     "languageId": "polyglot-notebook"
    }
   },
   "outputs": [
    {
     "name": "stdout",
     "output_type": "stream",
     "text": [
      "Original:\t22, 660, 841, 381, 889, 979, 267, 606, 768, 853, 656, 955, 691, 960, 253, 658, 504, 996, 821, 640, 751, 396, 201, 464, 961, 702, 409, 475, 234, 686\n",
      "Array.Sort():\t22, 201, 234, 253, 267, 381, 396, 409, 464, 475, 504, 606, 640, 656, 658, 660, 686, 691, 702, 751, 768, 821, 841, 853, 889, 955, 960, 961, 979, 996\n",
      "Bubble Sort:\t22, 201, 234, 253, 267, 381, 396, 409, 464, 475, 504, 606, 640, 656, 658, 660, 686, 691, 702, 751, 768, 821, 841, 853, 889, 955, 960, 961, 979, 996\n"
     ]
    }
   ],
   "source": [
    "// Make a copy of the same length\n",
    "int[] bubbleArray = new int[inputArray.Length];\n",
    "inputArray.CopyTo(bubbleArray, 0);\n",
    "\n",
    "// Sort the array\n",
    "bubbleSort(bubbleArray);\n",
    "\n",
    "Console.WriteLine($\"Original:\\t{String.Join(\", \", inputArray)}\");\n",
    "// this line assumes that you have run the sorting block above; if you haven't, it will throw an error.\n",
    "Console.WriteLine($\"Array.Sort():\\t{String.Join(\", \", sortedArray)}\");\n",
    "Console.WriteLine($\"Bubble Sort:\\t{String.Join(\", \", bubbleArray)}\");"
   ]
  },
  {
   "attachments": {},
   "cell_type": "markdown",
   "metadata": {},
   "source": [
    "<span style=\"font-size:16px;\">\n",
    "<i>What is the worst case scenario for Bubble Sort?</i> In bubble sort, we iterate over <code>arrayToSort.Length - 1</code> and <code>arrayToSort.Length - i - 1</code>. We can characterize BubbleSort's time complexity as follows:\n",
    "</span>\n",
    "<br /><br />\n",
    "\n",
    ">$O(n^2)$\n",
    "\n",
    "<span style=\"font-size:16px;\">\n",
    "because we iterate over the array for each value in the array. The fact that the second value (<code>arrayToSort.Length - i - 1</code>) shrinks as the algorithm continues is negligible for large datasets.<br /><br />\n",
    "This <a href=\"https://visualgo.net/en/sorting\">visual tool</a> demonstrates a few different sorting algorithms. Bubble Sort is there, as well as Quick Sort and Merge Sort, which we will discuss later.\n",
    "</span>"
   ]
  },
  {
   "attachments": {},
   "cell_type": "markdown",
   "metadata": {},
   "source": [
    "<span style=\"font-size:16px;\">\n",
    "<h4 style=\"font-family:Copperplate;margin-bottom:6pt;\">Making Sorts and Searches Faster</h4>\n",
    "The simple searching and sorting algorithms in this chapter can be incredibly slow when applied to large datasets. Run the following 3 code blocks, and note the runtime difference between Array.Sort and Bubble Sort.\n",
    "</span>"
   ]
  },
  {
   "cell_type": "code",
   "execution_count": 7,
   "id": "f6c52190",
   "metadata": {
    "dotnet_interactive": {
     "language": "csharp"
    },
    "polyglot_notebook": {
     "kernelName": "csharp"
    },
    "vscode": {
     "languageId": "polyglot-notebook"
    }
   },
   "outputs": [],
   "source": [
    "// The following block of code will read in the array from a file\n",
    "\n",
    "using System.IO;\n",
    "\n",
    "int[] bigArray = new int[50000];\n",
    "\n",
    "using(var reader = new StreamReader(@\"./Assets/bigArray.txt\")) {\n",
    "    for (int i = 0; i < 50000; i++) {\n",
    "        var line = reader.ReadLine();\n",
    "        bigArray[i] = int.Parse(line);\n",
    "    }\n",
    "}\n",
    "\n",
    "// Create the arrays to sort\n",
    "int[] bigSorted = new int[bigArray.Length];\n",
    "bigArray.CopyTo(bigSorted, 0);\n",
    "\n",
    "int[] bigBubble = new int[bigArray.Length];\n",
    "bigArray.CopyTo(bigBubble, 0);"
   ]
  },
  {
   "cell_type": "code",
   "execution_count": 8,
   "id": "bc9712d0",
   "metadata": {
    "dotnet_interactive": {
     "language": "csharp"
    },
    "polyglot_notebook": {
     "kernelName": "csharp"
    },
    "vscode": {
     "languageId": "polyglot-notebook"
    }
   },
   "outputs": [
    {
     "data": {
      "text/plain": [
       "Wall time: 8173.7993ms"
      ]
     },
     "metadata": {},
     "output_type": "display_data"
    }
   ],
   "source": [
    "#!time\n",
    "bubbleSort(bigBubble);"
   ]
  },
  {
   "cell_type": "code",
   "execution_count": 9,
   "id": "61d3e26e",
   "metadata": {
    "dotnet_interactive": {
     "language": "csharp"
    },
    "polyglot_notebook": {
     "kernelName": "csharp"
    },
    "vscode": {
     "languageId": "polyglot-notebook"
    }
   },
   "outputs": [
    {
     "data": {
      "text/plain": [
       "Wall time: 29.0202ms"
      ]
     },
     "metadata": {},
     "output_type": "display_data"
    }
   ],
   "source": [
    "#!time\n",
    "Array.Sort(bigSorted);"
   ]
  },
  {
   "attachments": {},
   "cell_type": "markdown",
   "metadata": {},
   "source": [
    "<span style=\"font-size:16px;\">\n",
    "For this dataset, <code>Array.Sort()</code> is decidedly faster than Bubble Sort. Depending on your machine, the difference may be more or less pronounced. Running the algorithms again may also produce anomalous results if your machine caches the operations. <br />\n",
    "\n",
    "C# uses a <a href=\"https://en.wikipedia.org/wiki/Introsort\">divide-and-conquer algorithm</a> for <code>Array.Sort()</code> based on <b>Quick Sort</b>. Here is what Quick Sort does:\n",
    "\n",
    "1. It selects an element in the array. This can be either a random or a predetermined element: e.g., the array's first or last element. This is called the <code>pivot</code>.\n",
    "2. It iterates over the rest of the array, placing values less than the <code>pivot</code> to the left of it, and values greater to the right. \n",
    "3. It repeats steps 1 and 2 for both subarrays to the left and right of the pivot, until the subarrays are of size 1.\n",
    "4. At that point, the array is sorted.\n",
    "\n",
    "The <i>average</i> time complexity for this algorithm is\n",
    "\n",
    ">$O(nlog(n))$\n",
    "\n",
    "<i>n</i> because of the first pass over the array. <i>log(n)</i> because each pivot will split the array roughly in half.<br /><br />\n",
    "The <i>worst</i> case for Quick Sort is\n",
    "\n",
    ">$O(n^2)$\n",
    "\n",
    "because there is a slim chance that <b>EVERY</b> pivot will be either the lowest or highest value in the array. This, for example, will happen when the pivot is the array's first element <b>AND</b> the array is already sorted; QuickSort will place no values in the left subarray since the pivot will be the array's smallest value.\n",
    "</span>"
   ]
  },
  {
   "attachments": {},
   "cell_type": "markdown",
   "metadata": {},
   "source": [
    "<span style=\"font-size:16px;\">\n",
    "Like sorts, searches can be optimized using a divide-and-conquer strategy. <code>Array.BinarySearch()</code> is one of these. Binary Search expects a <b>sorted</b> input. Based on the assumption that an array is sorted, it does the following:\n",
    "\n",
    "1. Start at the middle value of the array. If this value is the requested value, stop here.\n",
    "2. If the middle value is greater than the requested value, check the array’s left (lesser) half. If it is less, check the right (greater) half.\n",
    "3. Repeat steps 1 and 2 until the value is found, or identified as being missing from the array.\n",
    "\n",
    "This splits the problem into increasingly smaller subproblems, and results in a time complexity of\n",
    "\n",
    ">$O(log(n))$\n",
    "\n",
    "<span style=\"font-size:16px;\">\n",
    "You can test this in the example below.\n",
    "</span>"
   ]
  },
  {
   "cell_type": "code",
   "execution_count": 10,
   "id": "b6d19f3c",
   "metadata": {
    "dotnet_interactive": {
     "language": "csharp"
    },
    "polyglot_notebook": {
     "kernelName": "csharp"
    },
    "vscode": {
     "languageId": "polyglot-notebook"
    }
   },
   "outputs": [],
   "source": [
    "// The following block of code will read in the array from a file\n",
    "\n",
    "using System.IO;\n",
    "\n",
    "int[] ordered = new int[250000];\n",
    "\n",
    "using(var reader = new StreamReader(@\"./Assets/ordered.txt\")) {\n",
    "    for (int i = 0; i < 250000; i++) {\n",
    "        var line = reader.ReadLine();\n",
    "        ordered[i] = int.Parse(line);\n",
    "    }\n",
    "}"
   ]
  },
  {
   "cell_type": "code",
   "execution_count": 11,
   "id": "2f22e9cd",
   "metadata": {
    "dotnet_interactive": {
     "language": "csharp"
    },
    "polyglot_notebook": {
     "kernelName": "csharp"
    },
    "vscode": {
     "languageId": "polyglot-notebook"
    }
   },
   "outputs": [
    {
     "data": {
      "text/html": [
       "<div class=\"dni-plaintext\"><pre>249999</pre></div><style>\r\n",
       ".dni-code-hint {\r\n",
       "    font-style: italic;\r\n",
       "    overflow: hidden;\r\n",
       "    white-space: nowrap;\r\n",
       "}\r\n",
       ".dni-treeview {\r\n",
       "    white-space: nowrap;\r\n",
       "}\r\n",
       ".dni-treeview td {\r\n",
       "    vertical-align: top;\r\n",
       "    text-align: start;\r\n",
       "}\r\n",
       "details.dni-treeview {\r\n",
       "    padding-left: 1em;\r\n",
       "}\r\n",
       "table td {\r\n",
       "    text-align: start;\r\n",
       "}\r\n",
       "table tr { \r\n",
       "    vertical-align: top; \r\n",
       "    margin: 0em 0px;\r\n",
       "}\r\n",
       "table tr td pre \r\n",
       "{ \r\n",
       "    vertical-align: top !important; \r\n",
       "    margin: 0em 0px !important;\r\n",
       "} \r\n",
       "table th {\r\n",
       "    text-align: start;\r\n",
       "}\r\n",
       "</style>"
      ]
     },
     "metadata": {},
     "output_type": "display_data"
    },
    {
     "data": {
      "text/plain": [
       "Wall time: 84.9686ms"
      ]
     },
     "metadata": {},
     "output_type": "display_data"
    }
   ],
   "source": [
    "#!time\n",
    "FindIndex(ordered, 779726)"
   ]
  },
  {
   "cell_type": "code",
   "execution_count": 12,
   "id": "cf90a69d",
   "metadata": {
    "dotnet_interactive": {
     "language": "csharp"
    },
    "polyglot_notebook": {
     "kernelName": "csharp"
    },
    "vscode": {
     "languageId": "polyglot-notebook"
    }
   },
   "outputs": [
    {
     "data": {
      "text/html": [
       "<div class=\"dni-plaintext\"><pre>249999</pre></div><style>\r\n",
       ".dni-code-hint {\r\n",
       "    font-style: italic;\r\n",
       "    overflow: hidden;\r\n",
       "    white-space: nowrap;\r\n",
       "}\r\n",
       ".dni-treeview {\r\n",
       "    white-space: nowrap;\r\n",
       "}\r\n",
       ".dni-treeview td {\r\n",
       "    vertical-align: top;\r\n",
       "    text-align: start;\r\n",
       "}\r\n",
       "details.dni-treeview {\r\n",
       "    padding-left: 1em;\r\n",
       "}\r\n",
       "table td {\r\n",
       "    text-align: start;\r\n",
       "}\r\n",
       "table tr { \r\n",
       "    vertical-align: top; \r\n",
       "    margin: 0em 0px;\r\n",
       "}\r\n",
       "table tr td pre \r\n",
       "{ \r\n",
       "    vertical-align: top !important; \r\n",
       "    margin: 0em 0px !important;\r\n",
       "} \r\n",
       "table th {\r\n",
       "    text-align: start;\r\n",
       "}\r\n",
       "</style>"
      ]
     },
     "metadata": {},
     "output_type": "display_data"
    },
    {
     "data": {
      "text/plain": [
       "Wall time: 27.7019ms"
      ]
     },
     "metadata": {},
     "output_type": "display_data"
    }
   ],
   "source": [
    "#!time\n",
    "Array.BinarySearch(ordered, 779726)"
   ]
  },
  {
   "attachments": {},
   "cell_type": "markdown",
   "metadata": {},
   "source": [
    "<hr /><span style=\"font-size:14px;\">\n",
    "<b style=\"font-size:16px;\">Exercises</b> &emsp;|&emsp; <i>Place your answers in a <b>new</b> markdown cell below.</i>\n",
    "<ol>\n",
    "<li> Explain what the following code accomplishes.\n",
    "\n",
    "```csharp\n",
    "foreach (int x in array) {\n",
    "    Console.Write($\"{x} \");\n",
    "}\n",
    "```\n",
    "\n",
    "</li> \n",
    "<li> Explain what the following code accomplishes.\n",
    "\n",
    "```csharp\n",
    "for(int i = 0; i < array.Length; i++) {\n",
    "    array[i] *= 2;\n",
    "}\n",
    "```\n",
    "\n",
    "</li> \n",
    "<li> Explain what the following code accomplishes.\n",
    "\n",
    "```csharp\n",
    "int[][] arr = new int[4][];\n",
    "int[] lengths = {4, 2, 5, 7};\n",
    "\n",
    "for(int i = 0; i < arr.Length; i++) {\n",
    "    arr[i] = new int[lengths[i]];\n",
    "}\n",
    "```\n",
    "\n",
    "</li> \n",
    "<li> Explain what the following code accomplishes.\n",
    "\n",
    "```csharp\n",
    "using(var reader = new StreamReader(@\"./file.txt\")) {\n",
    "    for (int i = 0; i < array.Length; i++) {\n",
    "        var line = reader.ReadLine();\n",
    "        array[i] = int.Parse(line);\n",
    "    }\n",
    "}\n",
    "```\n",
    "\n",
    "</li> \n",
    "<li> Explain what the following code accomplishes.\n",
    "\n",
    "```csharp\n",
    "int index = -1;\n",
    "    \n",
    "for(int i = 0; i < array.Length; i++) {\n",
    "    if(array[i] == 3) {\n",
    "        index = i;\n",
    "        break;\n",
    "    }\n",
    "}\n",
    "```\n",
    "\n",
    "</li> \n",
    "<li> Explain what the following code accomplishes.\n",
    "\n",
    "```csharp\n",
    "for (int i = 0; i < array.Length - 1; i++) {\n",
    "    for (int j = 0; j < array.Length - i - 1; j++) {\n",
    "        if (array[j] > array[j + 1]) {\n",
    "            int temp = array[j];\n",
    "            array[j] = array[j + 1];\n",
    "            array[j + 1] = temp;\n",
    "        }\n",
    "    }\n",
    "}\n",
    "```\n",
    "\n",
    "</li> \n",
    "</span>"
   ]
  }
 ],
 "metadata": {
  "kernelInfo": {
   "defaultKernelName": null,
   "items": [
    {
     "aliases": [
      "c#",
      "cs"
     ],
     "languageName": "C#",
     "name": "csharp"
    },
    {
     "aliases": [
      "f#",
      "fs"
     ],
     "languageName": "F#",
     "name": "fsharp"
    },
    {
     "aliases": [
      "powershell"
     ],
     "languageName": "PowerShell",
     "name": "pwsh"
    },
    {
     "aliases": [
      "js"
     ],
     "languageName": "JavaScript",
     "name": "javascript"
    },
    {
     "languageName": "HTML",
     "name": "html"
    },
    {
     "languageName": "SQL",
     "name": "sql"
    },
    {
     "languageName": "KQL",
     "name": "kql"
    },
    {
     "languageName": "Mermaid",
     "name": "mermaid"
    },
    {
     "languageName": "HTTP",
     "name": "http"
    },
    {
     "name": "value"
    }
   ]
  },
  "language_info": {
   "name": "python"
  },
  "polyglot_notebook": {
   "kernelInfo": {
    "defaultKernelName": "csharp",
    "items": [
     {
      "aliases": [],
      "name": "csharp"
     }
    ]
   }
  }
 },
 "nbformat": 4,
 "nbformat_minor": 5
}

{
 "cells": [
  {
   "attachments": {},
   "cell_type": "markdown",
   "metadata": {},
   "source": [
    "<span style=\"font-size:16px;\">\n",
    "<h1 style=\"font-family:Copperplate\"><i>n</i>-Dimensional Arrays</h1>\n",
    "<code>Arrays</code> are commonly used to represent grids in two dimensions, and can have any number of dimensions.\n",
    "</span>"
   ]
  },
  {
   "attachments": {},
   "cell_type": "markdown",
   "metadata": {},
   "source": [
    "<span style=\"font-size:16px;\">\n",
    "<h4 style=\"font-family:Copperplate;margin-bottom:6pt;\">Multidimensional Arrays</h4>\n",
    "<code>Multidimensional Arrays</code> in C# fill the dimensions provided at declaration. The following array has the dimensions <code>[2,3]</code>:\n",
    "<br />\n",
    "\n",
    "<img src=\"https://raw.githubusercontent.com/FLAMINGxFURY/TextbookTemp/main/Chapter%201%20-%20Array%20and%20Array%20Algorithms/Assets/csharp-2d-array-index.webp\" style=\"width:90%;background:rgba(255,255,255,1);\" /> <br /><a href=\"https://www.programiz.com/csharp-programming/multidimensional-arrays\" style=\"font-size:11px;\">Source: Programiz.com</a>\n",
    "</span>"
   ]
  },
  {
   "attachments": {},
   "cell_type": "markdown",
   "metadata": {},
   "source": [
    "<span style='font-size:16px'>\n",
    "<h4 style=\"font-family:Copperplate;margin-bottom:6pt;\">Declaring Multidimensional Arrays</h4>\n",
    "In C#, a multidimensional array is declared by including a list of commas (<code>,</code>) in the brackets. This list has one comma for every dimension beyond the first:\n",
    "</span>\n",
    "<br /><br />\n",
    "\n",
    ">```csharp\n",
    ">int[,] arrInts2D;\n",
    ">int[,,] arrints3D;\n",
    ">```\n",
    "\n",
    "<span style=\"font-size:16px;\">\n",
    "<h4 style=\"font-family:Copperplate;margin-bottom:6pt;\">Initializing Multidimensional Arrays</h4>\n",
    "When initializing multidimensional arrays, <b>each dimension of each subarray must be filled with the same number of items.</b> For example, the following codes will throw an error:\n",
    "</span>"
   ]
  },
  {
   "cell_type": "code",
   "execution_count": 1,
   "id": "d27f6679",
   "metadata": {
    "dotnet_interactive": {
     "language": "csharp"
    },
    "polyglot_notebook": {
     "kernelName": "csharp"
    },
    "vscode": {
     "languageId": "polyglot-notebook"
    }
   },
   "outputs": [
    {
     "ename": "Error",
     "evalue": "(2,21): error CS0847: An array initializer of length '2' is expected",
     "output_type": "error",
     "traceback": [
      "(2,21): error CS0847: An array initializer of length '2' is expected"
     ]
    }
   ],
   "source": [
    "int[,] arrInts2D = {{1, 2}, \n",
    "                    {3, 4, 5}};                 // 2 items in arrints2D[0] vs. 3 in arrints2d[1]"
   ]
  },
  {
   "cell_type": "code",
   "execution_count": 2,
   "id": "76a19795",
   "metadata": {
    "dotnet_interactive": {
     "language": "csharp"
    },
    "polyglot_notebook": {
     "kernelName": "csharp"
    },
    "vscode": {
     "languageId": "polyglot-notebook"
    }
   },
   "outputs": [
    {
     "ename": "Error",
     "evalue": "(1,31): error CS0847: An array initializer of length '2' is expected\r\n(2,23): error CS0847: An array initializer of length '2' is expected\r\n(2,34): error CS0847: An array initializer of length '2' is expected",
     "output_type": "error",
     "traceback": [
      "(1,31): error CS0847: An array initializer of length '2' is expected\r\n",
      "(2,23): error CS0847: An array initializer of length '2' is expected\r\n",
      "(2,34): error CS0847: An array initializer of length '2' is expected"
     ]
    }
   ],
   "source": [
    "int[,,] arrInts3D = {{{1, 2}, {3, 4, 5}},\n",
    "                     {{6, 7, 8}, {9, 10, 11}}}; // 2 items in arrints3D[0,0] vs. 3 in arrints3D[0,1]"
   ]
  },
  {
   "attachments": {},
   "cell_type": "markdown",
   "metadata": {},
   "source": [
    "<span style='font-size:16px'>\n",
    "This code is correct:</span>"
   ]
  },
  {
   "cell_type": "code",
   "execution_count": 3,
   "id": "50c511c4",
   "metadata": {
    "dotnet_interactive": {
     "language": "csharp"
    },
    "polyglot_notebook": {
     "kernelName": "csharp"
    },
    "vscode": {
     "languageId": "polyglot-notebook"
    }
   },
   "outputs": [],
   "source": [
    "int[,] arrInts2D = {{0, 1, 2}, \n",
    "                    {3, 4, 5}};\n",
    "\n",
    "int[,,] arrInts3D = {{{0, 1, 2}, {3, 4, 5}}, \n",
    "                     {{6, 7, 8}, {9, 10, 11}}};"
   ]
  },
  {
   "attachments": {},
   "cell_type": "markdown",
   "metadata": {},
   "source": [
    "<span style=\"font-size:16px;\">\n",
    "The <code>new</code> keyword can be used to specify an array’s <i>shape</i>: that is, the number of items in each of its dimensions. To do so, use a comma (<code>,</code>) to separate the array's dimensions:</span>\n",
    "<br /><br />\n",
    "\n",
    ">```csharp\n",
    ">int[,] arrInts2D = new int[2,3];\n",
    ">int[,] arrInts3D = new int[2,3,2];\n",
    ">```"
   ]
  },
  {
   "attachments": {},
   "cell_type": "markdown",
   "metadata": {},
   "source": [
    "<span style=\"font-size:16px;\">\n",
    "<h4 style=\"font-family:Copperplate;margin-bottom:6pt;\">Accessing Values in Multidimensional Arrays</h4>\n",
    "Values in multidimensional arrays are indexed by dimension. For example, a 2-dimensional array will have 2 indices for each value, while a 5-dimensional array will have 5 indices for each value. Indices in index expressions are ordered from left to right, in descending order of dimension.  For example, in a three-dimensional array, an element’s plane is shown first, followed by its row, and, finally, its column.</br></br>Consider the following 3-Dimensional array:<br /><br />\n",
    "<table>\n",
    "<tbody>\n",
    "  <tr>\n",
    "    <td style=\"border:0px;vertical-align:top;\">[</td>\n",
    "    <td style=\"border:0px;\">\n",
    "      <table>\n",
    "      <tbody>\n",
    "        <tr>\n",
    "          <td>5</td>\n",
    "          <td>4</td>\n",
    "          <td>3</td>\n",
    "          <td>2</td>\n",
    "        </tr>\n",
    "        <tr>\n",
    "          <td>2</td>\n",
    "          <td>1</td>\n",
    "          <td>8</td>\n",
    "          <td>7</td>\n",
    "        </tr>\n",
    "        <tr>\n",
    "          <td>6</td>\n",
    "          <td style=\"background-color:rgba(255,255,255,0.1)\"><code>0</code></td>\n",
    "          <td>7</td>\n",
    "          <td>8</td>\n",
    "        </tr>\n",
    "      </tbody>\n",
    "      </table>\n",
    "    </td>\n",
    "    <td style=\"border:0px;vertical-align:center;\">,</td>\n",
    "    <td style=\"border:0px;\">\n",
    "      <table>\n",
    "      <tbody>\n",
    "        <tr>\n",
    "          <td>1</td>\n",
    "          <td>4</td>\n",
    "          <td>7</td>\n",
    "          <td>2</td>\n",
    "        </tr>\n",
    "        <tr>\n",
    "          <td>8</td>\n",
    "          <td>2</td>\n",
    "          <td>5</td>\n",
    "          <td>3</td>\n",
    "        </tr>\n",
    "        <tr>\n",
    "          <td>9</td>\n",
    "          <td>3</td>\n",
    "          <td>6</td>\n",
    "          <td>4</td>\n",
    "        </tr>\n",
    "      </tbody>\n",
    "      </table>\n",
    "    </td>\n",
    "    <td style=\"border:0px;vertical-align:bottom;\">]</td>\n",
    "  </tr>\n",
    "</tbody>\n",
    "</table><br />\n",
    "The following code will access the highlighted zero:</span>\n",
    "<br /><br />\n",
    "\n",
    ">```csharp\n",
    ">array[0,2,1];\n",
    ">```\n",
    "\n",
    "<span style=\"font-size:16px;\">\n",
    "<code>0</code> because the highlighted value is in the first plane. <br />\n",
    "<code>2</code> because the highlighted value is in the third row. <br />\n",
    "<code>1</code> because the highlighted value is in the second column.\n",
    "</span>"
   ]
  },
  {
   "attachments": {},
   "cell_type": "markdown",
   "metadata": {},
   "source": [
    "<span style=\"font-size:16px;\">\n",
    "<h4 style=\"font-family:Copperplate;margin-bottom:6pt;\">Properties and Methods for Multidimensional Arrays</h4>\n",
    "Multidimensional arrays share functions with the base Array class. Many functions treat all arrays as one-dimensional objects. For example, the <code>Length</code> property returns the total number of values in any array.</br></br>\n",
    "Some Array attributes, like C#’s  <code>GetLength()</code> method and <code>Rank</code> property, augment the use of multidimensional arrays. Be sure to reference the <a href=\"https://docs.microsoft.com/en-us/dotnet/api/system.array?view=net-6.0\">documentation</a> for the language you are using.\n",
    "\n",
    "</span>"
   ]
  },
  {
   "cell_type": "code",
   "execution_count": 4,
   "id": "14dfe52a",
   "metadata": {
    "dotnet_interactive": {
     "language": "csharp"
    },
    "polyglot_notebook": {
     "kernelName": "csharp"
    },
    "vscode": {
     "languageId": "polyglot-notebook"
    }
   },
   "outputs": [
    {
     "name": "stdout",
     "output_type": "stream",
     "text": [
      "R N B Q K B N R \n",
      "p p p p p p p p \n",
      ". . . . . . . . \n",
      ". . . . . . . . \n",
      ". . . . . . . . \n",
      ". . . . . . . . \n",
      "p p p p p p p p \n",
      "R N B Q K B N R \n"
     ]
    }
   ],
   "source": [
    "// The following code produces a 2x2 grid representing a chess board\n",
    "int numRows = 8;\n",
    "int numCols = 8;\n",
    "char[,] chess = new char[numRows, numCols];\n",
    "\n",
    "char[] backRowChessPieces = {'R', 'N', 'B', 'Q', 'K', 'B', 'N', 'R'};\n",
    "\n",
    "// In normal arrays, we use the Length property for iteration.\n",
    "// Multidimensional arrays have a function GetLength(x) where x is the dimension: \n",
    "// in this case, GetLength(0) gives the y axis, and GetLength(1) gives the x axis.\n",
    "\n",
    "for(int thisRow= 0; thisRow < chess.GetLength(0); thisRow++) {       //for each row in the board\n",
    "    //case 1: we are in a piece row\n",
    "    if(thisRow == 0 || thisRow == chess.GetLength(0) - 1) {\n",
    "        for(int thisCol = 0; thisCol < chess.GetLength(1); thisCol++) {\n",
    "            chess[thisRow, thisCol] = backRowChessPieces[thisCol];\n",
    "        }\n",
    "    }\n",
    "    \n",
    "    //case 2: we are in a pawn row\n",
    "    else if(thisRow == 1 || thisRow == chess.GetLength(0) - 2) {\n",
    "        for(int thisCol = 0; thisCol < chess.GetLength(1); thisCol++) {\n",
    "            chess[thisRow, thisCol] = 'p';\n",
    "        }\n",
    "    }\n",
    "\n",
    "    //case 3: we are in an empty row\n",
    "    else {\n",
    "        for(int thisCol = 0; thisCol < chess.GetLength(1); thisCol++) {\n",
    "            chess[thisRow, thisCol] = '.';\n",
    "        }\n",
    "    }\n",
    "}\n",
    "\n",
    "// This code prints the board to the screen\n",
    "for(int i = 0; i < chess.GetLength(0); i++) {       //for each row in the board\n",
    "    for (int j = 0; j < chess.GetLength(1); j++){   //for each column in the row\n",
    "        Console.Write($\"{chess[i,j]} \");            //write the character\n",
    "    }\n",
    "    Console.Write(\"\\n\");                            //insert a newline\n",
    "}"
   ]
  },
  {
   "attachments": {},
   "cell_type": "markdown",
   "metadata": {},
   "source": [
    "<span style=\"font-size:15px;\">\n",
    "\n",
    ">💡**Challenge:** In the following <code>code</code> cell, show a chessboard from black's perspective. It may help to use the <code>chess</code> array or the <code>backRowChessPieces</code> array.\n",
    "\n",
    "</span>"
   ]
  },
  {
   "cell_type": "code",
   "execution_count": 5,
   "id": "cb75bb0e",
   "metadata": {
    "dotnet_interactive": {
     "language": "csharp"
    },
    "polyglot_notebook": {
     "kernelName": "csharp"
    },
    "vscode": {
     "languageId": "polyglot-notebook"
    }
   },
   "outputs": [],
   "source": [
    "// Hint: From black's perspective, the queen will be on the right of the king."
   ]
  },
  {
   "attachments": {},
   "cell_type": "markdown",
   "metadata": {},
   "source": [
    "<span style=\"font-size:16px;\">\n",
    "<h4 style=\"font-family:Copperplate;margin-bottom:6pt;\">Jagged Arrays</h4>\n",
    "<code>Jagged Arrays</code> are multi-dimensional arrays whose dimensions contain different numbers of elements. The following example shows a jagged array with four rows, each of which has a different size:\n",
    "<br />\n",
    "\n",
    "<img src=\"https://raw.githubusercontent.com/FLAMINGxFURY/TextbookTemp/main/Chapter%201%20-%20Array%20and%20Array%20Algorithms/Assets/JagArr.jpg\" style=\"width:90%;\" /><br /><a href=\"https://www.geeksforgeeks.org/jagged-array-or-array-of-arrays-in-c-with-examples/\" style=\"font-size:11px;\">Source: GeeksForGeeks</a>\n",
    "</span>"
   ]
  },
  {
   "attachments": {},
   "cell_type": "markdown",
   "metadata": {},
   "source": [
    "<span style=\"font-size:16px;\">\n",
    "It may help to think of jagged arrays as arrays of arrays.<br />\n",
    "<h4 style=\"font-family:Copperplate;margin-bottom:6pt;\">Declaring Jagged Arrays</h4>\n",
    "Jagged arrays are declared using sequences of <code>[]</code> operators, one per dimension, like so:</span>\n",
    "<br /><br />\n",
    "\n",
    ">```csharp\n",
    ">int[][] jagInts2D;\n",
    ">```\n",
    "\n",
    "<span style=\"font-size:16px;\">\n",
    "<h4 style=\"font-family:Copperplate;margin-bottom:6pt;\">Initializing Jagged Arrays</h4>\n",
    "Jagged arrays can be initialized in steps - and must be to achieve a jagged shape. The following code mimics the shape of the diagram above: </span>"
   ]
  },
  {
   "cell_type": "code",
   "execution_count": 6,
   "id": "3b3fa26e",
   "metadata": {
    "dotnet_interactive": {
     "language": "csharp"
    },
    "polyglot_notebook": {
     "kernelName": "csharp"
    },
    "vscode": {
     "languageId": "polyglot-notebook"
    }
   },
   "outputs": [
    {
     "data": {
      "text/html": [
       "<table><thead><tr><th><i>index</i></th><th>value</th></tr></thead><tbody><tr><td>0</td><td><div class=\"dni-plaintext\"><pre>[ 0, 0, 0 ]</pre></div></td></tr><tr><td>1</td><td><div class=\"dni-plaintext\"><pre>[ 0, 0 ]</pre></div></td></tr><tr><td>2</td><td><div class=\"dni-plaintext\"><pre>[ 0, 0, 0, 0, 0 ]</pre></div></td></tr><tr><td>3</td><td><div class=\"dni-plaintext\"><pre>[ 0 ]</pre></div></td></tr></tbody></table><style>\r\n",
       ".dni-code-hint {\r\n",
       "    font-style: italic;\r\n",
       "    overflow: hidden;\r\n",
       "    white-space: nowrap;\r\n",
       "}\r\n",
       ".dni-treeview {\r\n",
       "    white-space: nowrap;\r\n",
       "}\r\n",
       ".dni-treeview td {\r\n",
       "    vertical-align: top;\r\n",
       "    text-align: start;\r\n",
       "}\r\n",
       "details.dni-treeview {\r\n",
       "    padding-left: 1em;\r\n",
       "}\r\n",
       "table td {\r\n",
       "    text-align: start;\r\n",
       "}\r\n",
       "table tr { \r\n",
       "    vertical-align: top; \r\n",
       "    margin: 0em 0px;\r\n",
       "}\r\n",
       "table tr td pre \r\n",
       "{ \r\n",
       "    vertical-align: top !important; \r\n",
       "    margin: 0em 0px !important;\r\n",
       "} \r\n",
       "table th {\r\n",
       "    text-align: start;\r\n",
       "}\r\n",
       "</style>"
      ]
     },
     "metadata": {},
     "output_type": "display_data"
    }
   ],
   "source": [
    "int[][] jagInts2D = new int[4][];\n",
    "\n",
    "jagInts2D[0] = new int[3];\n",
    "jagInts2D[1] = new int[2];\n",
    "jagInts2D[2] = new int[5];\n",
    "jagInts2D[3] = new int[1];\n",
    "\n",
    "//.NET Interactive will print something for us when used at the end of a code block like so:\n",
    "jagInts2D"
   ]
  },
  {
   "attachments": {},
   "cell_type": "markdown",
   "metadata": {},
   "source": [
    "<span style=\"font-size:16px;\">\n",
    "A jagged array's intermediate layers must be initialized with the <code>new</code> keyword. A jagged array's deepest layer, by contrast, may be initialized with either <code>new</code> or <code>{}</code>. For example, the above example can be rewritten as follows:</span>"
   ]
  },
  {
   "cell_type": "code",
   "execution_count": 7,
   "id": "a317724d",
   "metadata": {
    "dotnet_interactive": {
     "language": "csharp"
    },
    "polyglot_notebook": {
     "kernelName": "csharp"
    },
    "vscode": {
     "languageId": "polyglot-notebook"
    }
   },
   "outputs": [
    {
     "data": {
      "text/html": [
       "<table><thead><tr><th><i>index</i></th><th>value</th></tr></thead><tbody><tr><td>0</td><td><div class=\"dni-plaintext\"><pre>[ 0, 1, 2 ]</pre></div></td></tr><tr><td>1</td><td><div class=\"dni-plaintext\"><pre>[ 6, 4 ]</pre></div></td></tr><tr><td>2</td><td><div class=\"dni-plaintext\"><pre>[ 1, 7, 6, 8, 9 ]</pre></div></td></tr><tr><td>3</td><td><div class=\"dni-plaintext\"><pre>[ 5 ]</pre></div></td></tr></tbody></table><style>\r\n",
       ".dni-code-hint {\r\n",
       "    font-style: italic;\r\n",
       "    overflow: hidden;\r\n",
       "    white-space: nowrap;\r\n",
       "}\r\n",
       ".dni-treeview {\r\n",
       "    white-space: nowrap;\r\n",
       "}\r\n",
       ".dni-treeview td {\r\n",
       "    vertical-align: top;\r\n",
       "    text-align: start;\r\n",
       "}\r\n",
       "details.dni-treeview {\r\n",
       "    padding-left: 1em;\r\n",
       "}\r\n",
       "table td {\r\n",
       "    text-align: start;\r\n",
       "}\r\n",
       "table tr { \r\n",
       "    vertical-align: top; \r\n",
       "    margin: 0em 0px;\r\n",
       "}\r\n",
       "table tr td pre \r\n",
       "{ \r\n",
       "    vertical-align: top !important; \r\n",
       "    margin: 0em 0px !important;\r\n",
       "} \r\n",
       "table th {\r\n",
       "    text-align: start;\r\n",
       "}\r\n",
       "</style>"
      ]
     },
     "metadata": {},
     "output_type": "display_data"
    }
   ],
   "source": [
    "int[][] jagInts2D = new int[4][];\n",
    " \n",
    "jagInts2D[0] = new int[] {0, 1, 2};\n",
    "jagInts2D[1] = new int[] {6, 4};\n",
    "jagInts2D[2] = new int[] {1, 7, 6, 8, 9};\n",
    "jagInts2D[3] = new int[] {5};\n",
    "\n",
    "jagInts2D"
   ]
  },
  {
   "attachments": {},
   "cell_type": "markdown",
   "metadata": {},
   "source": [
    "<span style=\"font-size:16px;\">\n",
    "<h4 style=\"font-family:Copperplate;margin-bottom:6pt;\">Accessing Values in Jagged Arrays</h4>\n",
    "Like multidimensional arrays, jagged arrays are indexed based on dimension, following the same paradigm as declaration. The following code will access the 7 in <code>jagInts2D</code>:</span>\n",
    "<br /><br />\n",
    "\n",
    ">```csharp\n",
    ">jagInts2D[2][1];\n",
    ">```\n",
    "\n",
    "<span style=\"font-size:16px;\">\n",
    "Like multidimensional arrays, jagged arrays can have any number of dimensions. The example below creates and manipulates a 3-dimensional jagged array.\n",
    "</span>"
   ]
  },
  {
   "cell_type": "code",
   "execution_count": 8,
   "id": "9de3bd9b",
   "metadata": {
    "dotnet_interactive": {
     "language": "csharp"
    },
    "polyglot_notebook": {
     "kernelName": "csharp"
    },
    "vscode": {
     "languageId": "polyglot-notebook"
    }
   },
   "outputs": [
    {
     "name": "stdout",
     "output_type": "stream",
     "text": [
      "Plane 0\n",
      "0 \n",
      "\n",
      "Plane 1\n",
      "1 \n",
      "2 3 \n",
      "\n",
      "Plane 2\n",
      "4 \n",
      "5 6 \n",
      "7 8 9 \n",
      "\n",
      "Plane 3\n",
      "10 \n",
      "11 12 \n",
      "13 14 15 \n",
      "16 17 18 19 \n",
      "\n"
     ]
    }
   ],
   "source": [
    "//starting array\n",
    "int[][][] arr = new int[4][][];\n",
    "\n",
    "int valueInsert = 0;\n",
    "\n",
    "for(int i = 0; i < arr.Length; i++) {   //for each plane\n",
    "    arr[i] = new int[i + 1][];          //create an increasingly large plane of rows\n",
    "    for(int j = 0; j < arr[i].Length; j++) {    //for each row\n",
    "        arr[i][j] = new int[j + 1];     //create an increasingly large row of values\n",
    "        for(int x = 0; x < arr[i][j].Length; x++) { //for each value\n",
    "            arr[i][j][x] = valueInsert; //insert a value\n",
    "            valueInsert++;              //increment that value\n",
    "        }\n",
    "    }\n",
    "}\n",
    "\n",
    "//print the array\n",
    "for(int i = 0; i < arr.Length; i++) {   //for each plane\n",
    "    Console.WriteLine($\"Plane {i}\");\n",
    "    for(int j = 0; j < arr[i].Length; j++) {    //for each row\n",
    "        for(int x = 0; x < arr[i][j].Length; x++) { //for each value\n",
    "            Console.Write($\"{arr[i][j][x]} \");\n",
    "        }\n",
    "        Console.Write(\"\\n\");\n",
    "    }\n",
    "    Console.Write(\"\\n\");\n",
    "}"
   ]
  },
  {
   "attachments": {},
   "cell_type": "markdown",
   "metadata": {},
   "source": [
    "<span style=\"font-size:16px;\">\n",
    "<h4 style=\"font-family:Copperplate;margin-bottom:6pt;\">Mixed Implementations</h4>\n",
    "Multidimensional arrays and jagged arrays can be mixed however you like. Below is a jagged multidimensional array:\n",
    "</span>"
   ]
  },
  {
   "cell_type": "code",
   "execution_count": 9,
   "id": "3af3bccf",
   "metadata": {
    "dotnet_interactive": {
     "language": "csharp"
    },
    "polyglot_notebook": {
     "kernelName": "csharp"
    },
    "vscode": {
     "languageId": "polyglot-notebook"
    }
   },
   "outputs": [
    {
     "name": "stdout",
     "output_type": "stream",
     "text": [
      "Plane 0\n",
      "0 \n",
      "0 0 \n",
      "\n",
      "Plane 1\n",
      "0 \n",
      "0 0 \n",
      "\n"
     ]
    }
   ],
   "source": [
    "// This effectively represents a 3-dimensional staircase of empty values\n",
    "int[,][] mdJagged = {{new int[1], new int[2]},{new int[1], new int[2]}};\n",
    "\n",
    "//print the array\n",
    "for(int i = 0; i < mdJagged.GetLength(0); i++) {   //for each plane\n",
    "    Console.WriteLine($\"Plane {i}\");\n",
    "    for(int j = 0; j < mdJagged.GetLength(1); j++) {    //for each row\n",
    "        for(int x = 0; x < mdJagged[i,j].Length; x++) { //for each value\n",
    "            Console.Write($\"{mdJagged[i,j][x]} \");\n",
    "        }\n",
    "        Console.Write(\"\\n\");\n",
    "    }\n",
    "    Console.Write(\"\\n\");\n",
    "}"
   ]
  },
  {
   "attachments": {},
   "cell_type": "markdown",
   "metadata": {},
   "source": [
    "<span style=\"font-size:16px;\">\n",
    "The following shows a jagged array of multidimensional arrays:\n",
    "</span>"
   ]
  },
  {
   "cell_type": "code",
   "execution_count": 10,
   "id": "f2cbc86f",
   "metadata": {
    "dotnet_interactive": {
     "language": "csharp"
    },
    "polyglot_notebook": {
     "kernelName": "csharp"
    },
    "vscode": {
     "languageId": "polyglot-notebook"
    }
   },
   "outputs": [
    {
     "name": "stdout",
     "output_type": "stream",
     "text": [
      "Plane 0\n",
      "0 \n",
      "\n",
      "Plane 1\n",
      "0 0 \n",
      "0 0 \n",
      "\n",
      "Plane 2\n",
      "0 0 0 \n",
      "0 0 0 \n",
      "0 0 0 \n",
      "\n"
     ]
    }
   ],
   "source": [
    "int[][,] jaggedMD = new int[3][,]; \n",
    "\n",
    "//In this loop, we will create planes that increase in dimensions continuously\n",
    "for(int i = 0; i < jaggedMD.Length; i++) { //for each plane\n",
    "    jaggedMD[i] = new int[i+1, i+1];\n",
    "}\n",
    "\n",
    "//print the array\n",
    "for(int i = 0; i < jaggedMD.Length; i++) {   //for each plane\n",
    "    Console.WriteLine($\"Plane {i}\");\n",
    "    for(int j = 0; j < jaggedMD[i].GetLength(0); j++) {    //for each row\n",
    "        for(int x = 0; x < jaggedMD[i].GetLength(1); x++) { //for each value\n",
    "            Console.Write($\"{jaggedMD[i][j,x]} \");\n",
    "        }\n",
    "        Console.Write(\"\\n\");\n",
    "    }\n",
    "    Console.Write(\"\\n\");\n",
    "}"
   ]
  },
  {
   "attachments": {},
   "cell_type": "markdown",
   "metadata": {},
   "source": [
    "<hr /><span style=\"font-size:14px;\">\n",
    "<b style=\"font-size:16px;\">Exercises</b> &emsp;|&emsp; <i>Solve the exercises in the provided </i><code>code</code><i> cells.</i> <br /><br />\n",
    "1. Create an array and fill it with the first 7 numbers of the Fibonacci Sequence, starting with <kbd>0</kbd>.\n",
    "</span>"
   ]
  },
  {
   "cell_type": "code",
   "execution_count": 11,
   "id": "0469cc21",
   "metadata": {
    "dotnet_interactive": {
     "language": "csharp"
    },
    "polyglot_notebook": {
     "kernelName": "csharp"
    },
    "vscode": {
     "languageId": "polyglot-notebook"
    }
   },
   "outputs": [],
   "source": [
    "// Exercise 1"
   ]
  },
  {
   "attachments": {},
   "cell_type": "markdown",
   "metadata": {},
   "source": [
    "<span style=\"font-size:14px;\">2. Using the array created in exercise 1, print the value <kbd>3</kbd> to the screen.</span>"
   ]
  },
  {
   "cell_type": "code",
   "execution_count": 12,
   "id": "8c8489e5",
   "metadata": {
    "dotnet_interactive": {
     "language": "csharp"
    },
    "polyglot_notebook": {
     "kernelName": "csharp"
    },
    "vscode": {
     "languageId": "polyglot-notebook"
    }
   },
   "outputs": [],
   "source": [
    "// Exercise 2\n",
    "// Hint: The array from exercise 1 will stay in memory until the notebook is closed.\n",
    "// You should be able to use it here without redeclaring it, as long as you have \n",
    "// run the cell from exercise 1 first."
   ]
  },
  {
   "attachments": {},
   "cell_type": "markdown",
   "metadata": {},
   "source": [
    "<span style=\"font-size:14px;\">3. Reverse the above array, and then subtract 5 from each value.</span>"
   ]
  },
  {
   "cell_type": "code",
   "execution_count": 13,
   "id": "4f8b062d",
   "metadata": {
    "dotnet_interactive": {
     "language": "csharp"
    },
    "polyglot_notebook": {
     "kernelName": "csharp"
    },
    "vscode": {
     "languageId": "polyglot-notebook"
    }
   },
   "outputs": [],
   "source": [
    "// Exercise 3"
   ]
  },
  {
   "attachments": {},
   "cell_type": "markdown",
   "metadata": {},
   "source": [
    "<span style=\"font-size:14px;\">4. Create a multidimensional array to represent a Tic-Tac-Toe board.</span>"
   ]
  },
  {
   "cell_type": "code",
   "execution_count": 14,
   "id": "3c7f6032",
   "metadata": {
    "dotnet_interactive": {
     "language": "csharp"
    },
    "polyglot_notebook": {
     "kernelName": "csharp"
    },
    "vscode": {
     "languageId": "polyglot-notebook"
    }
   },
   "outputs": [],
   "source": [
    "// Exercise 4"
   ]
  },
  {
   "attachments": {},
   "cell_type": "markdown",
   "metadata": {},
   "source": [
    "<span style=\"font-size:14px;\">5. Initialize the values in the array to spaces. If you wish, you can combine 4 and 5 into one step.</span>"
   ]
  },
  {
   "cell_type": "code",
   "execution_count": 15,
   "id": "b459e1b7",
   "metadata": {
    "dotnet_interactive": {
     "language": "csharp"
    },
    "polyglot_notebook": {
     "kernelName": "csharp"
    },
    "vscode": {
     "languageId": "polyglot-notebook"
    }
   },
   "outputs": [],
   "source": [
    "// Exercise 5"
   ]
  },
  {
   "attachments": {},
   "cell_type": "markdown",
   "metadata": {},
   "source": [
    "<span style=\"font-size:14px;\">6. Place a few 'X's and 'O's on the board, and then print the array.</span>"
   ]
  },
  {
   "cell_type": "code",
   "execution_count": 16,
   "id": "da0a7fee",
   "metadata": {
    "dotnet_interactive": {
     "language": "csharp"
    },
    "polyglot_notebook": {
     "kernelName": "csharp"
    },
    "vscode": {
     "languageId": "polyglot-notebook"
    }
   },
   "outputs": [],
   "source": [
    "// Exercise 6"
   ]
  },
  {
   "attachments": {},
   "cell_type": "markdown",
   "metadata": {},
   "source": [
    "<span style=\"font-size:14px;\">7. Create a jagged array with 6 rows.</span>"
   ]
  },
  {
   "cell_type": "code",
   "execution_count": 17,
   "id": "057d1342",
   "metadata": {
    "dotnet_interactive": {
     "language": "csharp"
    },
    "polyglot_notebook": {
     "kernelName": "csharp"
    },
    "vscode": {
     "languageId": "polyglot-notebook"
    }
   },
   "outputs": [],
   "source": [
    "// Exercise 7"
   ]
  },
  {
   "attachments": {},
   "cell_type": "markdown",
   "metadata": {},
   "source": [
    "<span style=\"font-size:14px;\">8. Using a fresh copy of the array from exercise 1, set the sizes of the jagged array's rows to the Fibonacci Sequence: for example, this array’s first and last rows should have 1 and 8 elements, respectively. Fill each row to capacity with the initial values of the Fibonacci sequence: for example, this array’s third row should have <kbd>{1, 1, 2}</kbd> as its elements, while its fifth should have <kbd>{1, 1, 2, 3, 5}</kbd>. Finally, print the array.</span>"
   ]
  },
  {
   "cell_type": "code",
   "execution_count": 18,
   "id": "2b9596d2",
   "metadata": {
    "dotnet_interactive": {
     "language": "csharp"
    },
    "polyglot_notebook": {
     "kernelName": "csharp"
    },
    "vscode": {
     "languageId": "polyglot-notebook"
    }
   },
   "outputs": [],
   "source": [
    "// Copy your solution to exercise 1 below:\n",
    "\n",
    "// Exercise 8"
   ]
  }
 ],
 "metadata": {
  "kernelInfo": {
   "defaultKernelName": null,
   "items": [
    {
     "aliases": [
      "c#",
      "cs"
     ],
     "languageName": "C#",
     "name": "csharp"
    },
    {
     "aliases": [
      "f#",
      "fs"
     ],
     "languageName": "F#",
     "name": "fsharp"
    },
    {
     "aliases": [
      "powershell"
     ],
     "languageName": "PowerShell",
     "name": "pwsh"
    },
    {
     "aliases": [
      "js"
     ],
     "languageName": "JavaScript",
     "name": "javascript"
    },
    {
     "languageName": "HTML",
     "name": "html"
    },
    {
     "languageName": "SQL",
     "name": "sql"
    },
    {
     "languageName": "KQL",
     "name": "kql"
    },
    {
     "languageName": "Mermaid",
     "name": "mermaid"
    },
    {
     "languageName": "HTTP",
     "name": "http"
    },
    {
     "name": "value"
    }
   ]
  },
  "language_info": {
   "name": "python"
  },
  "polyglot_notebook": {
   "kernelInfo": {
    "defaultKernelName": "csharp",
    "items": [
     {
      "aliases": [],
      "name": "csharp"
     }
    ]
   }
  }
 },
 "nbformat": 4,
 "nbformat_minor": 5
}

{
 "cells": [
  {
   "attachments": {},
   "cell_type": "markdown",
   "metadata": {},
   "source": [
    "<span style=\"font-size:16px;\">\n",
    "<h1 style=\"font-family:Copperplate\">Applications of Dictionaries</h1>\n",
    "So far, this chapter has covered the benefits of using dictionaries to associate keys with values - the gradebook example illustrates this. Dictionaries can also optimize other workloads. The two examples below demonstrate how dictionaries can be used to aggregate data and to optimize lookups.\n",
    "</span>"
   ]
  },
  {
   "attachments": {},
   "cell_type": "markdown",
   "metadata": {},
   "source": [
    "<span style=\"font-size:16px;\">\n",
    "<h4 style=\"font-family:Copperplate\">Aggregating Data</h4>\n",
    "Dictionaries are a convenient structure for generating counts of items: for example, in a collection of values whose elements occur at varying frequencies. This need, for example, arises in Natural Language Processing applications that generate <code>bags of words</code>: datasets that match a document’s words with the number of times that these words occur in that document.\n",
    "</span>"
   ]
  },
  {
   "cell_type": "code",
   "execution_count": 4,
   "id": "9d96d46e",
   "metadata": {
    "dotnet_interactive": {
     "language": "csharp"
    },
    "polyglot_notebook": {
     "kernelName": "csharp"
    },
    "vscode": {
     "languageId": "polyglot-notebook"
    }
   },
   "outputs": [
    {
     "name": "stdout",
     "output_type": "stream",
     "text": [
      "the : 5846\n",
      "and : 5038\n",
      "to : 3178\n",
      "of : 3058\n",
      "you : 1906\n"
     ]
    }
   ],
   "source": [
    "using System.IO;\n",
    "using System.Text.RegularExpressions;\n",
    "\n",
    "Dictionary<string, int> bag_of_words = new Dictionary<string, int>();\n",
    "\n",
    "// Count each word in './Assets/theOdyssey.txt'\n",
    "using(var reader = new StreamReader(\"./Assets/theOdyssey.txt\")) {\n",
    "    while(!reader.EndOfStream){\n",
    "        string line = reader.ReadLine();\n",
    "        string[] words = line.Split(' ');\n",
    "\n",
    "        foreach(string word in words) {\n",
    "            string clean_word = Regex.Replace(word, @\"[^\\w\\s]\", \"\");    // clean punctuation\n",
    "            clean_word = clean_word.ToLower();                          // make lowercase\n",
    "\n",
    "            if(bag_of_words.ContainsKey(clean_word)) \n",
    "                bag_of_words[clean_word]++;\n",
    "            else bag_of_words[clean_word] = 1;            \n",
    "        }\n",
    "    }\n",
    "}\n",
    "\n",
    "// Print the top 5 most common words\n",
    "var top5 = bag_of_words.OrderByDescending(x => x.Value).Take(5);\n",
    "\n",
    "foreach(KeyValuePair<string, int> word in top5) {\n",
    "    Console.WriteLine($\"{word.Key} : {word.Value}\");\n",
    "}"
   ]
  },
  {
   "attachments": {},
   "cell_type": "markdown",
   "metadata": {},
   "source": [
    "<span style=\"font-size:16px;\">\n",
    "<h4 style=\"font-family:Copperplate\">Optimizing Lookups</h4>\n",
    "Hashing makes dictionaries incredibly efficient at CRUD (Create-Read-Update-Delete) operations - assuming that effective   keys for a dataset’s values can be readily obtained. One example of applying this is <i>caching</i>. Caching is a method for speeding up subsequent accesses to a resource - for example, a web page. One way to implement a cache is to use a dictionary with key-value pairs that map URLs to a page’s content. When a user requests a web page, the cache is checked to see if the page is in the cache. If it is, the page is returned. If it is not, the page is downloaded and added to the cache.<br /><br />\n",
    "Caching can be used for other purposes as well. The example below demonstrates how to use a dictionary to cache the results of a function call.\n",
    "</span>"
   ]
  },
  {
   "cell_type": "code",
   "execution_count": 5,
   "id": "a676c386",
   "metadata": {
    "dotnet_interactive": {
     "language": "csharp"
    },
    "polyglot_notebook": {
     "kernelName": "csharp"
    },
    "vscode": {
     "languageId": "polyglot-notebook"
    }
   },
   "outputs": [],
   "source": [
    "int complexMathEquation(int x) {\n",
    "    for(int i = 0; i < 999999999; i++)\n",
    "        x = (x * 2) + 1;\n",
    "    return x;\n",
    "}\n",
    "\n",
    "Dictionary<int, int> functionCache = new Dictionary<int, int>();"
   ]
  },
  {
   "attachments": {},
   "cell_type": "markdown",
   "metadata": {},
   "source": [
    "<span style=\"font-size:16px;\">\n",
    "After initializing the <code>functionCache</code> above, run the code block below twice. Note the difference in runtime.\n",
    "</span>"
   ]
  },
  {
   "cell_type": "code",
   "execution_count": 6,
   "id": "a8dc9223",
   "metadata": {
    "dotnet_interactive": {
     "language": "csharp"
    },
    "polyglot_notebook": {
     "kernelName": "csharp"
    },
    "vscode": {
     "languageId": "polyglot-notebook"
    }
   },
   "outputs": [
    {
     "name": "stdout",
     "output_type": "stream",
     "text": [
      "-1\r\n"
     ]
    },
    {
     "data": {
      "text/plain": [
       "Wall time: 1850.3158ms"
      ]
     },
     "metadata": {},
     "output_type": "display_data"
    }
   ],
   "source": [
    "#!time\n",
    "try {\n",
    "    Console.WriteLine(functionCache[5]);\n",
    "}\n",
    "catch(KeyNotFoundException) {\n",
    "    functionCache[5] = complexMathEquation(5);\n",
    "    Console.WriteLine(functionCache[5]);\n",
    "}"
   ]
  },
  {
   "cell_type": "code",
   "execution_count": 7,
   "metadata": {
    "dotnet_interactive": {
     "language": "csharp"
    },
    "polyglot_notebook": {
     "kernelName": "csharp"
    },
    "vscode": {
     "languageId": "polyglot-notebook"
    }
   },
   "outputs": [
    {
     "name": "stdout",
     "output_type": "stream",
     "text": [
      "-1\r\n"
     ]
    },
    {
     "data": {
      "text/plain": [
       "Wall time: 19.6941ms"
      ]
     },
     "metadata": {},
     "output_type": "display_data"
    }
   ],
   "source": [
    "#!time\n",
    "try {\n",
    "    Console.WriteLine(functionCache[5]);\n",
    "}\n",
    "catch(KeyNotFoundException) {\n",
    "    functionCache[5] = complexMathEquation(5);\n",
    "    Console.WriteLine(functionCache[5]);\n",
    "}"
   ]
  },
  {
   "attachments": {},
   "cell_type": "markdown",
   "metadata": {},
   "source": [
    "<hr /><span style=\"font-size:14px;\">\n",
    "<b style=\"font-size:16px;\">Exercises</b> &emsp;|&emsp; <i>Place your answers in a <b>new</b> markdown cell below.</i>\n",
    "<ol>\n",
    "<li> What is the purpose of the following code?\n",
    "\n",
    "```csharp\n",
    "public int this[string key] {\n",
    "    set {\n",
    "        //...\n",
    "    }\n",
    "    get {\n",
    "        //...\n",
    "    }\n",
    "} \n",
    "```\n",
    "\n",
    "</li> \n",
    "<li>Explain how function caching would be helpful for a function that returns the nth item of the Fibonacci sequence given n.<br /><br /></li>\n",
    "<li>The AssociativeArray class in 5.1 uses a list. Could its performance be improved by using a tree instead? And, if so, what requirements would need to be imposed on the key-value pairs?<br /><br /></li>\n",
    "<li>Chaining also uses lists. Given that tree accesses are O(log n), which underlying structure will perform better on average? Why? In what cases does this vary, if any?</li>\n",
    "</ol>\n",
    "</span>"
   ]
  }
 ],
 "metadata": {
  "kernelInfo": {
   "defaultKernelName": null,
   "items": [
    {
     "aliases": [
      "c#",
      "cs"
     ],
     "languageName": "C#",
     "name": "csharp"
    },
    {
     "aliases": [
      "f#",
      "fs"
     ],
     "languageName": "F#",
     "name": "fsharp"
    },
    {
     "aliases": [
      "powershell"
     ],
     "languageName": "PowerShell",
     "name": "pwsh"
    },
    {
     "aliases": [
      "js"
     ],
     "languageName": "JavaScript",
     "name": "javascript"
    },
    {
     "languageName": "HTML",
     "name": "html"
    },
    {
     "languageName": "SQL",
     "name": "sql"
    },
    {
     "languageName": "KQL",
     "name": "kql"
    },
    {
     "languageName": "Mermaid",
     "name": "mermaid"
    },
    {
     "languageName": "HTTP",
     "name": "http"
    },
    {
     "name": "value"
    }
   ]
  },
  "language_info": {
   "name": "python"
  },
  "polyglot_notebook": {
   "kernelInfo": {
    "defaultKernelName": "csharp",
    "items": [
     {
      "aliases": [],
      "name": "csharp"
     }
    ]
   }
  }
 },
 "nbformat": 4,
 "nbformat_minor": 5
}
